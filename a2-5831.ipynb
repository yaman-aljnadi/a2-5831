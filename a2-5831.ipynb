{
 "cells": [
  {
   "cell_type": "markdown",
   "metadata": {},
   "source": [
    "# a2 - python - CS5831\n",
    "\n",
    "This assignment will cover topics from data, data preprocessing, and classification.\n",
    "\n",
    "Make sure that you keep this notebook named as \"a2-5831.ipynb\" \n",
    "\n",
    "Submit the zip-file created after running your notebook on the Linux lab machines.\n",
    "\n",
    "Any other packages or tools, outside those listed in the assignments or Canvas, should be cleared\n",
    "by Dr. Brown before use in your submission."
   ]
  },
  {
   "cell_type": "markdown",
   "metadata": {},
   "source": [
    "## Q0 - Setup\n",
    "\n",
    "The following code looks to see whether your notebook is run on Gradescope (GS), Colab (COLAB), or the linux Python environment you were asked to setup."
   ]
  },
  {
   "cell_type": "code",
   "execution_count": 1,
   "metadata": {},
   "outputs": [
    {
     "name": "stdout",
     "output_type": "stream",
     "text": [
      "System: GS - False, COLAB - False, LLM - True\n"
     ]
    }
   ],
   "source": [
    "import re \n",
    "import os\n",
    "import platform \n",
    "import sys \n",
    "\n",
    "# flag if notebook is running on Gradescope \n",
    "if re.search(r'amzn', platform.uname().release): \n",
    "    GS = True\n",
    "else: \n",
    "    GS = False\n",
    "\n",
    "# flag if notebook is running on Colaboratory \n",
    "try:\n",
    "  import google.colab\n",
    "  COLAB = True\n",
    "except:\n",
    "  COLAB = False\n",
    "\n",
    "# flag if running on Linux lab machines. \n",
    "cname = platform.uname().node\n",
    "if re.search(r'(guardian|colossus|c28|coc-15954-m)', cname):\n",
    "    LLM = True \n",
    "else: \n",
    "    LLM = False\n",
    "\n",
    "print(\"System: GS - %s, COLAB - %s, LLM - %s\" % (GS, COLAB, LLM))"
   ]
  },
  {
   "cell_type": "code",
   "execution_count": 2,
   "metadata": {},
   "outputs": [],
   "source": [
    "# Import standard DS packages \n",
    "import pandas as pd\n",
    "import numpy as np\n",
    "import matplotlib as mpl\n",
    "import matplotlib.pyplot as plt\n",
    "import seaborn as sns\n",
    "import math\n",
    "import statistics\n",
    "import textwrap\n",
    "%matplotlib inline\n",
    "\n",
    "from sklearn import tree        # decision tree classifier\n",
    "from sklearn import neighbors   # knn classifier\n",
    "from sklearn import naive_bayes # naive bayes classifier \n",
    "from sklearn import metrics     # performance evaluation metrics\n",
    "from sklearn import model_selection\n",
    "from sklearn import preprocessing \n",
    "from sklearn import pipeline\n",
    "# import graphviz, pydotplus\n",
    "\n",
    "from sklearn.model_selection import train_test_split, StratifiedKFold \n",
    "from sklearn.preprocessing import StandardScaler, MinMaxScaler\n",
    "from sklearn.pipeline import Pipeline, make_pipeline\n",
    "from sklearn.model_selection import GridSearchCV\n",
    "from sklearn.naive_bayes import GaussianNB\n",
    "from sklearn.neighbors import KNeighborsClassifier\n",
    "from sklearn import tree\n",
    "from sklearn.tree import DecisionTreeClassifier\n",
    "from sklearn.metrics import accuracy_score, precision_score, recall_score\n",
    "from sklearn.metrics import f1_score, roc_auc_score,mean_squared_error\n",
    "from sklearn.metrics import confusion_matrix\n",
    "\n",
    "# Package for Autograder \n",
    "import os\n",
    "if os.environ[\"HOME\"]=='/home/jovyan':\n",
    "    !pip install --upgrade otter-grader\n",
    "    \n",
    "import otter \n",
    "grader = otter.Notebook()\n",
    "\n",
    "from warnings import simplefilter\n",
    "simplefilter(action='ignore', category=FutureWarning)"
   ]
  },
  {
   "cell_type": "markdown",
   "metadata": {
    "id": "hvDdQg2KBbfa"
   },
   "source": [
    "# Q1 - Exploratory Data Analysis \n",
    "\n",
    "Consider the `movies` data set available on Canvas. The data set is made up of over 600 randomly selected movies, released before 2016, with information extracted from IMDB and Rotten Tomatoes. A code book on the variables is also provided.\n",
    "\n",
    "You should explore the files a bit in a text editor to understand the format. The variables are made up of different types: nominal, ordinal, numeric, etc. We will refer to the different variables by their column / codebook names.\n"
   ]
  },
  {
   "cell_type": "markdown",
   "metadata": {
    "deletable": false,
    "editable": false
   },
   "source": [
    "<!-- BEGIN QUESTION -->\n",
    "\n",
    "# *Missing Data*"
   ]
  },
  {
   "cell_type": "markdown",
   "metadata": {
    "deletable": false,
    "editable": false
   },
   "source": [
    "## Q1(a) - Examine data for loading \n",
    "\n",
    "Look at the `movies` data set.  Is there any missing data in the `movies` data set? \n",
    "If so, how is it encoded? "
   ]
  },
  {
   "cell_type": "markdown",
   "metadata": {},
   "source": [
    "Missing data is encoded as: 'NA'"
   ]
  },
  {
   "cell_type": "markdown",
   "metadata": {
    "deletable": false,
    "editable": false
   },
   "source": [
    "<!-- END QUESTION -->\n",
    "\n",
    "## Q1(b) - Load the data\n",
    "\n",
    "Load the movies data into a DataFrame `q1movies`.  Is there any missing data in the `movies` data set? \n",
    "If yes, make sure to encode those missing values when reading the data in pandas `read_csv` function. \n"
   ]
  },
  {
   "cell_type": "code",
   "execution_count": 3,
   "metadata": {
    "tags": []
   },
   "outputs": [
    {
     "data": {
      "text/html": [
       "<div>\n",
       "<style scoped>\n",
       "    .dataframe tbody tr th:only-of-type {\n",
       "        vertical-align: middle;\n",
       "    }\n",
       "\n",
       "    .dataframe tbody tr th {\n",
       "        vertical-align: top;\n",
       "    }\n",
       "\n",
       "    .dataframe thead th {\n",
       "        text-align: right;\n",
       "    }\n",
       "</style>\n",
       "<table border=\"1\" class=\"dataframe\">\n",
       "  <thead>\n",
       "    <tr style=\"text-align: right;\">\n",
       "      <th></th>\n",
       "      <th>title</th>\n",
       "      <th>title_type</th>\n",
       "      <th>genre</th>\n",
       "      <th>runtime</th>\n",
       "      <th>mpaa_rating</th>\n",
       "      <th>studio</th>\n",
       "      <th>thtr_rel_year</th>\n",
       "      <th>thtr_rel_month</th>\n",
       "      <th>thtr_rel_day</th>\n",
       "      <th>dvd_rel_year</th>\n",
       "      <th>...</th>\n",
       "      <th>best_dir_win</th>\n",
       "      <th>top200_box</th>\n",
       "      <th>director</th>\n",
       "      <th>actor1</th>\n",
       "      <th>actor2</th>\n",
       "      <th>actor3</th>\n",
       "      <th>actor4</th>\n",
       "      <th>actor5</th>\n",
       "      <th>imdb_url</th>\n",
       "      <th>rt_url</th>\n",
       "    </tr>\n",
       "  </thead>\n",
       "  <tbody>\n",
       "    <tr>\n",
       "      <th>0</th>\n",
       "      <td>Filly Brown</td>\n",
       "      <td>Feature Film</td>\n",
       "      <td>Drama</td>\n",
       "      <td>80.0</td>\n",
       "      <td>R</td>\n",
       "      <td>Indomina Media Inc.</td>\n",
       "      <td>2013</td>\n",
       "      <td>4</td>\n",
       "      <td>19</td>\n",
       "      <td>2013.0</td>\n",
       "      <td>...</td>\n",
       "      <td>no</td>\n",
       "      <td>no</td>\n",
       "      <td>Michael D. Olmos</td>\n",
       "      <td>Gina Rodriguez</td>\n",
       "      <td>Jenni Rivera</td>\n",
       "      <td>Lou Diamond Phillips</td>\n",
       "      <td>Emilio Rivera</td>\n",
       "      <td>Joseph Julian Soria</td>\n",
       "      <td>http://www.imdb.com/title/tt1869425/</td>\n",
       "      <td>//www.rottentomatoes.com/m/filly_brown_2012/</td>\n",
       "    </tr>\n",
       "    <tr>\n",
       "      <th>1</th>\n",
       "      <td>The Dish</td>\n",
       "      <td>Feature Film</td>\n",
       "      <td>Drama</td>\n",
       "      <td>101.0</td>\n",
       "      <td>PG-13</td>\n",
       "      <td>Warner Bros. Pictures</td>\n",
       "      <td>2001</td>\n",
       "      <td>3</td>\n",
       "      <td>14</td>\n",
       "      <td>2001.0</td>\n",
       "      <td>...</td>\n",
       "      <td>no</td>\n",
       "      <td>no</td>\n",
       "      <td>Rob Sitch</td>\n",
       "      <td>Sam Neill</td>\n",
       "      <td>Kevin Harrington</td>\n",
       "      <td>Patrick Warburton</td>\n",
       "      <td>Tom Long</td>\n",
       "      <td>Genevieve Mooy</td>\n",
       "      <td>http://www.imdb.com/title/tt0205873/</td>\n",
       "      <td>//www.rottentomatoes.com/m/dish/</td>\n",
       "    </tr>\n",
       "    <tr>\n",
       "      <th>2</th>\n",
       "      <td>Waiting for Guffman</td>\n",
       "      <td>Feature Film</td>\n",
       "      <td>Comedy</td>\n",
       "      <td>84.0</td>\n",
       "      <td>R</td>\n",
       "      <td>Sony Pictures Classics</td>\n",
       "      <td>1996</td>\n",
       "      <td>8</td>\n",
       "      <td>21</td>\n",
       "      <td>2001.0</td>\n",
       "      <td>...</td>\n",
       "      <td>no</td>\n",
       "      <td>no</td>\n",
       "      <td>Christopher Guest</td>\n",
       "      <td>Christopher Guest</td>\n",
       "      <td>Catherine O'Hara</td>\n",
       "      <td>Parker Posey</td>\n",
       "      <td>Eugene Levy</td>\n",
       "      <td>Bob Balaban</td>\n",
       "      <td>http://www.imdb.com/title/tt0118111/</td>\n",
       "      <td>//www.rottentomatoes.com/m/waiting_for_guffman/</td>\n",
       "    </tr>\n",
       "    <tr>\n",
       "      <th>3</th>\n",
       "      <td>The Age of Innocence</td>\n",
       "      <td>Feature Film</td>\n",
       "      <td>Drama</td>\n",
       "      <td>139.0</td>\n",
       "      <td>PG</td>\n",
       "      <td>Columbia Pictures</td>\n",
       "      <td>1993</td>\n",
       "      <td>10</td>\n",
       "      <td>1</td>\n",
       "      <td>2001.0</td>\n",
       "      <td>...</td>\n",
       "      <td>yes</td>\n",
       "      <td>no</td>\n",
       "      <td>Martin Scorsese</td>\n",
       "      <td>Daniel Day-Lewis</td>\n",
       "      <td>Michelle Pfeiffer</td>\n",
       "      <td>Winona Ryder</td>\n",
       "      <td>Richard E. Grant</td>\n",
       "      <td>Alec McCowen</td>\n",
       "      <td>http://www.imdb.com/title/tt0106226/</td>\n",
       "      <td>//www.rottentomatoes.com/m/age_of_innocence/</td>\n",
       "    </tr>\n",
       "    <tr>\n",
       "      <th>4</th>\n",
       "      <td>Malevolence</td>\n",
       "      <td>Feature Film</td>\n",
       "      <td>Horror</td>\n",
       "      <td>90.0</td>\n",
       "      <td>R</td>\n",
       "      <td>Anchor Bay Entertainment</td>\n",
       "      <td>2004</td>\n",
       "      <td>9</td>\n",
       "      <td>10</td>\n",
       "      <td>2005.0</td>\n",
       "      <td>...</td>\n",
       "      <td>no</td>\n",
       "      <td>no</td>\n",
       "      <td>Stevan Mena</td>\n",
       "      <td>Samantha Dark</td>\n",
       "      <td>R. Brandon Johnson</td>\n",
       "      <td>Brandon Johnson</td>\n",
       "      <td>Heather Magee</td>\n",
       "      <td>Richard Glover</td>\n",
       "      <td>http://www.imdb.com/title/tt0388230/</td>\n",
       "      <td>//www.rottentomatoes.com/m/10004684-malevolence/</td>\n",
       "    </tr>\n",
       "  </tbody>\n",
       "</table>\n",
       "<p>5 rows × 32 columns</p>\n",
       "</div>"
      ],
      "text/plain": [
       "                  title    title_type   genre  runtime mpaa_rating  \\\n",
       "0           Filly Brown  Feature Film   Drama     80.0           R   \n",
       "1              The Dish  Feature Film   Drama    101.0       PG-13   \n",
       "2   Waiting for Guffman  Feature Film  Comedy     84.0           R   \n",
       "3  The Age of Innocence  Feature Film   Drama    139.0          PG   \n",
       "4           Malevolence  Feature Film  Horror     90.0           R   \n",
       "\n",
       "                     studio  thtr_rel_year  thtr_rel_month  thtr_rel_day  \\\n",
       "0       Indomina Media Inc.           2013               4            19   \n",
       "1     Warner Bros. Pictures           2001               3            14   \n",
       "2    Sony Pictures Classics           1996               8            21   \n",
       "3         Columbia Pictures           1993              10             1   \n",
       "4  Anchor Bay Entertainment           2004               9            10   \n",
       "\n",
       "   dvd_rel_year  ...  best_dir_win  top200_box           director  \\\n",
       "0        2013.0  ...            no          no   Michael D. Olmos   \n",
       "1        2001.0  ...            no          no          Rob Sitch   \n",
       "2        2001.0  ...            no          no  Christopher Guest   \n",
       "3        2001.0  ...           yes          no    Martin Scorsese   \n",
       "4        2005.0  ...            no          no        Stevan Mena   \n",
       "\n",
       "              actor1              actor2                actor3  \\\n",
       "0     Gina Rodriguez        Jenni Rivera  Lou Diamond Phillips   \n",
       "1          Sam Neill    Kevin Harrington     Patrick Warburton   \n",
       "2  Christopher Guest    Catherine O'Hara          Parker Posey   \n",
       "3   Daniel Day-Lewis   Michelle Pfeiffer          Winona Ryder   \n",
       "4      Samantha Dark  R. Brandon Johnson       Brandon Johnson   \n",
       "\n",
       "             actor4               actor5  \\\n",
       "0     Emilio Rivera  Joseph Julian Soria   \n",
       "1          Tom Long       Genevieve Mooy   \n",
       "2       Eugene Levy          Bob Balaban   \n",
       "3  Richard E. Grant         Alec McCowen   \n",
       "4     Heather Magee       Richard Glover   \n",
       "\n",
       "                               imdb_url  \\\n",
       "0  http://www.imdb.com/title/tt1869425/   \n",
       "1  http://www.imdb.com/title/tt0205873/   \n",
       "2  http://www.imdb.com/title/tt0118111/   \n",
       "3  http://www.imdb.com/title/tt0106226/   \n",
       "4  http://www.imdb.com/title/tt0388230/   \n",
       "\n",
       "                                             rt_url  \n",
       "0      //www.rottentomatoes.com/m/filly_brown_2012/  \n",
       "1                  //www.rottentomatoes.com/m/dish/  \n",
       "2   //www.rottentomatoes.com/m/waiting_for_guffman/  \n",
       "3      //www.rottentomatoes.com/m/age_of_innocence/  \n",
       "4  //www.rottentomatoes.com/m/10004684-malevolence/  \n",
       "\n",
       "[5 rows x 32 columns]"
      ]
     },
     "execution_count": 3,
     "metadata": {},
     "output_type": "execute_result"
    }
   ],
   "source": [
    "# Read in movies data with pandas \"read_csv\" function\n",
    "#  Use column names from the original csv file \n",
    "\n",
    "q1movies = pd.read_csv('movies.csv')\n",
    "\n",
    "q1movies.head()"
   ]
  },
  {
   "cell_type": "code",
   "execution_count": 4,
   "metadata": {
    "deletable": false,
    "editable": false
   },
   "outputs": [
    {
     "data": {
      "text/html": [
       "<p><strong><pre style='display: inline;'>q1b</pre></strong> passed! 💯</p>"
      ],
      "text/plain": [
       "q1b results: All test cases passed!"
      ]
     },
     "execution_count": 4,
     "metadata": {},
     "output_type": "execute_result"
    }
   ],
   "source": [
    "grader.check(\"q1b\")"
   ]
  },
  {
   "cell_type": "markdown",
   "metadata": {
    "deletable": false,
    "editable": false
   },
   "source": [
    "## Q1(c) - Missing data \n",
    "\n",
    "We want to understand where (which variable) and how much data is missing (for each variable the percentage of rows). "
   ]
  },
  {
   "cell_type": "code",
   "execution_count": 5,
   "metadata": {
    "tags": []
   },
   "outputs": [
    {
     "data": {
      "text/plain": [
       "title               0.000000\n",
       "title_type          0.000000\n",
       "genre               0.000000\n",
       "runtime             0.154799\n",
       "mpaa_rating         0.000000\n",
       "studio              1.083591\n",
       "thtr_rel_year       0.000000\n",
       "thtr_rel_month      0.000000\n",
       "thtr_rel_day        0.000000\n",
       "dvd_rel_year        1.238390\n",
       "dvd_rel_month       1.238390\n",
       "dvd_rel_day         1.238390\n",
       "imdb_rating         0.000000\n",
       "imdb_num_votes      0.000000\n",
       "critics_rating      0.000000\n",
       "critics_score       0.000000\n",
       "audience_rating     0.000000\n",
       "audience_score      0.000000\n",
       "best_pic_nom        0.000000\n",
       "best_pic_win        0.000000\n",
       "best_actor_win      0.000000\n",
       "best_actress_win    0.000000\n",
       "best_dir_win        0.000000\n",
       "top200_box          0.000000\n",
       "director            0.309598\n",
       "actor1              0.309598\n",
       "actor2              1.083591\n",
       "actor3              1.393189\n",
       "actor4              1.857585\n",
       "actor5              2.167183\n",
       "imdb_url            0.000000\n",
       "rt_url              0.000000\n",
       "dtype: float64"
      ]
     },
     "execution_count": 5,
     "metadata": {},
     "output_type": "execute_result"
    }
   ],
   "source": [
    "# Create a Data.Series that has the percentage of missing data for each \n",
    "#  attribute in the movies data set.\n",
    "\n",
    "# Convert column headers to list\n",
    "headers = list(q1movies.columns)\n",
    "\n",
    "# Create empty list\n",
    "miss_data_list = []\n",
    "\n",
    "# For loop to calculate percentage of 'NA' values per column\n",
    "# Calculation = # of NA divided by # of rows times 100\n",
    "for col in q1movies.columns:\n",
    "    NA_count = q1movies[col].isnull().sum()/len(q1movies)*100\n",
    "    miss_data_list.append(NA_count)\n",
    "\n",
    "# Convert missing data list to series and use column headers as series index\n",
    "miss_data = pd.Series(miss_data_list, index=headers)\n",
    "\n",
    "miss_data"
   ]
  },
  {
   "cell_type": "code",
   "execution_count": 6,
   "metadata": {
    "deletable": false,
    "editable": false
   },
   "outputs": [
    {
     "data": {
      "text/html": [
       "<p><strong><pre style='display: inline;'>q1c</pre></strong> passed! 💯</p>"
      ],
      "text/plain": [
       "q1c results: All test cases passed!"
      ]
     },
     "execution_count": 6,
     "metadata": {},
     "output_type": "execute_result"
    }
   ],
   "source": [
    "grader.check(\"q1c\")"
   ]
  },
  {
   "cell_type": "markdown",
   "metadata": {
    "deletable": false,
    "editable": false
   },
   "source": [
    "## Q1(d) - Clean data \n",
    "\n",
    "We want to clean up data with respect to the missing values. \n",
    "\n",
    "Ignore any missing values in the `studio`, `dvd_rel_year`, `dvd_rel_month`, `dvd_rel_day`, and all variables including and listed after `best_pic_nom`. For other missing values, remove the sample that contains the missing value.\n",
    "\n",
    "Save the resulting DataFrame in the `movies` variable.  "
   ]
  },
  {
   "cell_type": "code",
   "execution_count": 7,
   "metadata": {
    "tags": []
   },
   "outputs": [
    {
     "data": {
      "text/plain": [
       "(645, 32)"
      ]
     },
     "execution_count": 7,
     "metadata": {},
     "output_type": "execute_result"
    }
   ],
   "source": [
    "\n",
    "# Ignore missing values in \"studio\", \"dvd_rel_year\", \"dvd_rel_month\", \n",
    "#   \"dvd_rel_day\", and all varaibles including and after \"best_pic_nom\"\n",
    "# For other missing values, remove the sample that contains the missing value. \n",
    "\n",
    "movies = q1movies.dropna(subset=['title', 'title_type', 'genre', 'runtime', 'mpaa_rating',\n",
    "                           'thtr_rel_year', 'thtr_rel_month', 'thtr_rel_day',\n",
    "                           'imdb_rating', 'imdb_num_votes','critics_rating', 'critics_score',\n",
    "                           'audience_rating', 'audience_score'])\n",
    "\n",
    "movies.shape"
   ]
  },
  {
   "cell_type": "code",
   "execution_count": 8,
   "metadata": {
    "deletable": false,
    "editable": false
   },
   "outputs": [
    {
     "data": {
      "text/html": [
       "<p><strong><pre style='display: inline;'>q1d</pre></strong> passed! 🍀</p>"
      ],
      "text/plain": [
       "q1d results: All test cases passed!"
      ]
     },
     "execution_count": 8,
     "metadata": {},
     "output_type": "execute_result"
    }
   ],
   "source": [
    "grader.check(\"q1d\")"
   ]
  },
  {
   "cell_type": "markdown",
   "metadata": {
    "deletable": false,
    "editable": false
   },
   "source": [
    "## Q1(e) - Attribute Types\n",
    "\n",
    "For the following variables, state the attribute type: 1- *nominal*, 2- *ordinal*, 3- *interval*, or 4- *ratio*. "
   ]
  },
  {
   "cell_type": "code",
   "execution_count": 9,
   "metadata": {
    "tags": []
   },
   "outputs": [],
   "source": [
    "type_genre = 1\n",
    "type_runtime = 3\n",
    "type_mpaa_rating = 2\n",
    "type_studio = 1\n",
    "type_thtr_rel_month = 3\n",
    "type_imdb_rating = 2\n",
    "type_audience_score = 3\n",
    "type_best_pic_win = 1"
   ]
  },
  {
   "cell_type": "code",
   "execution_count": 10,
   "metadata": {
    "deletable": false,
    "editable": false
   },
   "outputs": [
    {
     "data": {
      "text/html": [
       "<p><strong><pre style='display: inline;'>q1e</pre></strong> passed! 🙌</p>"
      ],
      "text/plain": [
       "q1e results: All test cases passed!"
      ]
     },
     "execution_count": 10,
     "metadata": {},
     "output_type": "execute_result"
    }
   ],
   "source": [
    "grader.check(\"q1e\")"
   ]
  },
  {
   "cell_type": "markdown",
   "metadata": {
    "deletable": false,
    "editable": false
   },
   "source": [
    "# *Summary Statistics*"
   ]
  },
  {
   "cell_type": "markdown",
   "metadata": {
    "deletable": false,
    "editable": false
   },
   "source": [
    "## Q1(f) - Statistics, part 1\n",
    "\n",
    "For the following variables, report out a five number summary:\n",
    "`audience_score` and `imdb_rating`\n",
    "\n",
    "Store results in a DataFrame: `q1f`\n",
    "\n",
    "*Hint:* consider using the `describe` function.\n"
   ]
  },
  {
   "cell_type": "code",
   "execution_count": 11,
   "metadata": {
    "tags": []
   },
   "outputs": [
    {
     "data": {
      "text/html": [
       "<div>\n",
       "<style scoped>\n",
       "    .dataframe tbody tr th:only-of-type {\n",
       "        vertical-align: middle;\n",
       "    }\n",
       "\n",
       "    .dataframe tbody tr th {\n",
       "        vertical-align: top;\n",
       "    }\n",
       "\n",
       "    .dataframe thead th {\n",
       "        text-align: right;\n",
       "    }\n",
       "</style>\n",
       "<table border=\"1\" class=\"dataframe\">\n",
       "  <thead>\n",
       "    <tr style=\"text-align: right;\">\n",
       "      <th></th>\n",
       "      <th>audience_score</th>\n",
       "      <th>imdb_rating</th>\n",
       "    </tr>\n",
       "  </thead>\n",
       "  <tbody>\n",
       "    <tr>\n",
       "      <th>min</th>\n",
       "      <td>11.0</td>\n",
       "      <td>1.9</td>\n",
       "    </tr>\n",
       "    <tr>\n",
       "      <th>25%</th>\n",
       "      <td>46.0</td>\n",
       "      <td>5.9</td>\n",
       "    </tr>\n",
       "    <tr>\n",
       "      <th>50%</th>\n",
       "      <td>65.0</td>\n",
       "      <td>6.6</td>\n",
       "    </tr>\n",
       "    <tr>\n",
       "      <th>75%</th>\n",
       "      <td>80.0</td>\n",
       "      <td>7.3</td>\n",
       "    </tr>\n",
       "    <tr>\n",
       "      <th>max</th>\n",
       "      <td>97.0</td>\n",
       "      <td>9.0</td>\n",
       "    </tr>\n",
       "  </tbody>\n",
       "</table>\n",
       "</div>"
      ],
      "text/plain": [
       "     audience_score  imdb_rating\n",
       "min            11.0          1.9\n",
       "25%            46.0          5.9\n",
       "50%            65.0          6.6\n",
       "75%            80.0          7.3\n",
       "max            97.0          9.0"
      ]
     },
     "execution_count": 11,
     "metadata": {},
     "output_type": "execute_result"
    }
   ],
   "source": [
    "\n",
    "# Report five number summary for variables `audience_score` and `imdb_rating` in \n",
    "#  a DataFrame \"q1f\" \n",
    "#  Rows should represent: min, Q1 - 25%, Q2 - 50%, Q3 - 50%, max \n",
    "#  Columns should be `audience_score` then `imdb_rating` \n",
    "\n",
    "# Subset movies data frame\n",
    "q1f = movies[['audience_score', 'imdb_rating']]\n",
    "\n",
    "# Use describe() function to get min, Q1 - 25%, Q2 - 50%, Q3 - 50%, max values\n",
    "q1f = q1f.describe().loc[['min', '25%', '50%', '75%', 'max']]\n",
    "\n",
    "q1f"
   ]
  },
  {
   "cell_type": "code",
   "execution_count": 12,
   "metadata": {
    "deletable": false,
    "editable": false
   },
   "outputs": [
    {
     "data": {
      "text/html": [
       "<p><strong><pre style='display: inline;'>q1f</pre></strong> passed! 🙌</p>"
      ],
      "text/plain": [
       "q1f results: All test cases passed!"
      ]
     },
     "execution_count": 12,
     "metadata": {},
     "output_type": "execute_result"
    }
   ],
   "source": [
    "grader.check(\"q1f\")"
   ]
  },
  {
   "cell_type": "markdown",
   "metadata": {
    "deletable": false,
    "editable": false
   },
   "source": [
    "## Q1(g) - Statistics, part 2 \n",
    "\n",
    "Report the mean, median, and mode of `critics_score` and `runtime` to the given variables. "
   ]
  },
  {
   "cell_type": "code",
   "execution_count": 15,
   "metadata": {
    "tags": []
   },
   "outputs": [],
   "source": [
    "# Report mean, median and mode of \"critics_score\" and \"runtime\" \n",
    "\n",
    "# For critics_score- \n",
    "q1g_cs_mean = movies['critics_score'].mean()\n",
    "q1g_cs_median = movies['critics_score'].median()\n",
    "# Using iloc[] to pull out value because mode() returns a data series instead of a single value\n",
    "q1g_cs_mode = movies['critics_score'].mode().iloc[0]\n",
    "\n",
    "# For runtime- \n",
    "q1g_r_mean = movies['runtime'].mean()\n",
    "q1g_r_median = movies['runtime'].median()\n",
    "# Adding the .max() function since the .mode() function returns two values that have equal frequency\n",
    "q1g_r_mode = movies['runtime'].mode().max()"
   ]
  },
  {
   "cell_type": "code",
   "execution_count": 16,
   "metadata": {
    "deletable": false,
    "editable": false
   },
   "outputs": [
    {
     "data": {
      "text/html": [
       "<p><strong style='color: red;'><pre style='display: inline;'>q1g</pre> results:</strong></p><p><strong><pre style='display: inline;'>q1g - 1</pre> result:</strong></p><pre>    ✅ Test case passed</pre><p><strong><pre style='display: inline;'>q1g - 2</pre> result:</strong></p><pre>    ✅ Test case passed</pre><p><strong><pre style='display: inline;'>q1g - 3</pre> result:</strong></p><pre>    ❌ Test case failed\n",
       "    Trying:\n",
       "        round(q1g_cs_mode, 4) == 67 and round(q1g_r_mode, 4) == 100.0\n",
       "    Expecting:\n",
       "        True\n",
       "    **********************************************************************\n",
       "    Line 1, in q1g 2\n",
       "    Failed example:\n",
       "        round(q1g_cs_mode, 4) == 67 and round(q1g_r_mode, 4) == 100.0\n",
       "    Expected:\n",
       "        True\n",
       "    Got:\n",
       "        np.True_\n",
       "</pre>"
      ],
      "text/plain": [
       "q1g results:\n",
       "    q1g - 1 result:\n",
       "        ✅ Test case passed\n",
       "\n",
       "    q1g - 2 result:\n",
       "        ✅ Test case passed\n",
       "\n",
       "    q1g - 3 result:\n",
       "        ❌ Test case failed\n",
       "        Trying:\n",
       "            round(q1g_cs_mode, 4) == 67 and round(q1g_r_mode, 4) == 100.0\n",
       "        Expecting:\n",
       "            True\n",
       "        **********************************************************************\n",
       "        Line 1, in q1g 2\n",
       "        Failed example:\n",
       "            round(q1g_cs_mode, 4) == 67 and round(q1g_r_mode, 4) == 100.0\n",
       "        Expected:\n",
       "            True\n",
       "        Got:\n",
       "            np.True_"
      ]
     },
     "execution_count": 16,
     "metadata": {},
     "output_type": "execute_result"
    }
   ],
   "source": [
    "grader.check(\"q1g\")"
   ]
  },
  {
   "cell_type": "markdown",
   "metadata": {
    "deletable": false,
    "editable": false
   },
   "source": [
    "## Q1(h) - Statistics, part 3\n",
    "\n",
    "Report the first quartile, 37th percentile, third quartile, and 83rd percentile\n",
    "for `critics_score` and `runtime` and assign it to the given variables.  "
   ]
  },
  {
   "cell_type": "code",
   "execution_count": 17,
   "metadata": {
    "tags": []
   },
   "outputs": [],
   "source": [
    "# Report first quartile, 31st percentile, third quartile, and 90th percentile\n",
    "#  of \"critics_score\" and \"runtime\" \n",
    "\n",
    "# For critics_score- \n",
    "q1h_cs_q1 = movies['critics_score'].describe(percentiles=[0.25]).loc['25%']\n",
    "q1h_cs_p37 = movies['critics_score'].describe(percentiles=[0.37]).loc['37%']\n",
    "q1h_cs_q3 = movies['critics_score'].describe(percentiles=[0.75]).loc['75%']\n",
    "q1h_cs_p83 = movies['critics_score'].describe(percentiles=[0.83]).loc['83%']\n",
    "\n",
    "# For runtime- \n",
    "q1h_r_q1 = movies['runtime'].describe(percentiles=[0.25]).loc['25%']\n",
    "q1h_r_p37 = movies['runtime'].describe(percentiles=[0.37]).loc['37%']\n",
    "q1h_r_q3 = movies['runtime'].describe(percentiles=[0.75]).loc['75%']\n",
    "q1h_r_p83 = movies['runtime'].describe(percentiles=[0.83]).loc['83%']"
   ]
  },
  {
   "cell_type": "code",
   "execution_count": 18,
   "metadata": {
    "deletable": false,
    "editable": false
   },
   "outputs": [
    {
     "data": {
      "text/html": [
       "<p><strong><pre style='display: inline;'>q1h</pre></strong> passed! 🎉</p>"
      ],
      "text/plain": [
       "q1h results: All test cases passed!"
      ]
     },
     "execution_count": 18,
     "metadata": {},
     "output_type": "execute_result"
    }
   ],
   "source": [
    "grader.check(\"q1h\")"
   ]
  },
  {
   "cell_type": "markdown",
   "metadata": {
    "deletable": false,
    "editable": false
   },
   "source": [
    "<!-- BEGIN QUESTION -->\n",
    "\n",
    "# *Visualizations* \n",
    "\n",
    "## Q1(i) Visualization: Single Variable \n",
    "\n",
    "I highly encourage looking at the [Fundamentals of Visualization](https://clauswilke.com/dataviz/index.html) reference book to guide in the creation of “good” visualizations requested below.\n",
    "\n",
    "\n",
    "Create a bar plot for the `critics_rating` variable."
   ]
  },
  {
   "cell_type": "code",
   "execution_count": 19,
   "metadata": {
    "tags": []
   },
   "outputs": [
    {
     "data": {
      "text/plain": [
       "''"
      ]
     },
     "execution_count": 19,
     "metadata": {},
     "output_type": "execute_result"
    },
    {
     "data": {
      "image/png": "[encoded data removed]",
      "text/plain": [
       "<Figure size 600x800 with 1 Axes>"
      ]
     },
     "metadata": {},
     "output_type": "display_data"
    }
   ],
   "source": [
    "\n",
    "# Create bar plot for \"critics_rating\" \n",
    "\n",
    "# Subset and sort data\n",
    "Q1 = movies['critics_rating'].value_counts().reset_index()\n",
    "Q1 = Q1.sort_values(by='critics_rating')\n",
    "rating = Q1['critics_rating']\n",
    "counts = Q1['count']\n",
    "\n",
    "# Set the figure size\n",
    "plt.figure(figsize=(6, 8))\n",
    "\n",
    "# Title and axis labels\n",
    "plt.title(\"Frequencies of critics' movie rating classes\")\n",
    "plt.xlabel(\"Critics' rating\")\n",
    "plt.ylabel(\"Frequency\")\n",
    "\n",
    "# Create the bar plot\n",
    "plt.bar(rating, counts)\n",
    ";\n"
   ]
  },
  {
   "cell_type": "markdown",
   "metadata": {
    "deletable": false,
    "editable": false
   },
   "source": [
    "<!-- END QUESTION -->\n",
    "\n",
    "<!-- BEGIN QUESTION -->\n",
    "\n",
    "## Q1(j) Visualization: Two Variables \n",
    "\n",
    "Create a violin plot for `imdb_rating` grouped by `mpaa_rating` (sorted by mpaa rating, where 'Unrated' is last).\n",
    "\n"
   ]
  },
  {
   "cell_type": "code",
   "execution_count": 20,
   "metadata": {
    "tags": []
   },
   "outputs": [
    {
     "name": "stderr",
     "output_type": "stream",
     "text": [
      "/tmp/ipykernel_206253/1694982888.py:7: SettingWithCopyWarning: \n",
      "A value is trying to be set on a copy of a slice from a DataFrame.\n",
      "Try using .loc[row_indexer,col_indexer] = value instead\n",
      "\n",
      "See the caveats in the documentation: https://pandas.pydata.org/pandas-docs/stable/user_guide/indexing.html#returning-a-view-versus-a-copy\n",
      "  Q1j['mpaa_rating'] = pd.Categorical(Q1j['mpaa_rating'], categories=rating_order, ordered=True)\n"
     ]
    },
    {
     "data": {
      "text/plain": [
       "''"
      ]
     },
     "execution_count": 20,
     "metadata": {},
     "output_type": "execute_result"
    },
    {
     "data": {
      "image/png": "[encoded data removed]",
      "text/plain": [
       "<Figure size 640x480 with 1 Axes>"
      ]
     },
     "metadata": {},
     "output_type": "display_data"
    }
   ],
   "source": [
    "\n",
    "# Create a violin plot for `imdb_rating` grouped by `mpaa_rating` (sorted)\n",
    "\n",
    "# Subset and sort data\n",
    "Q1j = movies[['imdb_rating', 'mpaa_rating']]\n",
    "# Setting the order to reflect the correct ordinal nature of the 'mpaa\n",
    "rating_order = ['G', 'PG', 'PG-13', 'NC-17', 'R', 'Unrated']\n",
    "Q1j['mpaa_rating'] = pd.Categorical(Q1j['mpaa_rating'], categories=rating_order, ordered=True)\n",
    "Q1j = Q1j.sort_values(by='mpaa_rating')\n",
    "\n",
    "# Seaborn violin plot\n",
    "fig1j = sns.violinplot(data=Q1j, x='mpaa_rating', y='imdb_rating')\n",
    "fig1j.set_title('Motion Picture Association (MPA) versus\\nInternet Movie Database (IMDb) rating')\n",
    "fig1j.set_xlabel('MAP rating')\n",
    "fig1j.set_ylabel('IMDb rating')\n",
    ";\n"
   ]
  },
  {
   "cell_type": "markdown",
   "metadata": {
    "deletable": false,
    "editable": false
   },
   "source": [
    "<!-- END QUESTION -->\n",
    "\n",
    "<!-- BEGIN QUESTION -->\n",
    "\n",
    "## Q1(k) Visualization: Multiple variables\n",
    "\n",
    "Create a stacked bar chart to display the proportion of wins (nominations) for the 5 `best_*` variables.\n"
   ]
  },
  {
   "cell_type": "code",
   "execution_count": 21,
   "metadata": {
    "tags": []
   },
   "outputs": [
    {
     "data": {
      "image/png": "[encoded data removed]",
      "text/plain": [
       "<Figure size 640x480 with 1 Axes>"
      ]
     },
     "metadata": {},
     "output_type": "display_data"
    }
   ],
   "source": [
    "\n",
    "# Create a stacked bar chart to display the proportion of wins (nominations) \n",
    "#   for the 5 `best_*` variables.\n",
    "\n",
    "# Subset data\n",
    "Q1k = movies[['best_pic_nom', 'best_pic_win', 'best_actor_win', 'best_actress_win', 'best_dir_win']]\n",
    "\n",
    "# Calculate proportions of 'no' and 'yes' for each category\n",
    "picNomNo = Q1k['best_pic_nom']\n",
    "picNomNo = picNomNo[picNomNo == 'no'].count()/len(picNomNo)\n",
    "picWinNo = Q1k['best_pic_win']\n",
    "picWinNo = picWinNo[picWinNo == 'no'].count()/len(picWinNo)\n",
    "actWinNo = Q1k['best_actor_win']\n",
    "actWinNo = actWinNo[actWinNo == 'no'].count()/len(actWinNo)\n",
    "actressWinNo = Q1k['best_actress_win']\n",
    "actressWinNo = actressWinNo[actressWinNo == 'no'].count()/len(actressWinNo)\n",
    "dirWinNo = Q1k['best_dir_win']\n",
    "dirWinNo = dirWinNo[dirWinNo == 'no'].count()/len(dirWinNo)\n",
    "\n",
    "No_list = [picNomNo, picWinNo, actWinNo, actressWinNo, dirWinNo]\n",
    "\n",
    "picNomYes = 1- picNomNo\n",
    "picWinYes = 1 - picWinNo\n",
    "actWinYes = 1 - actWinNo\n",
    "actressWinYes = 1 - actressWinNo\n",
    "dirWinYes = 1 - dirWinNo\n",
    "\n",
    "Yes_list = [picNomYes, picWinYes, actWinYes, actressWinYes, dirWinYes]\n",
    "\n",
    "# Create stacked bar plot\n",
    "Categories = (\n",
    "    \"Best\\npicture\\nnomination\",\n",
    "    \"Best\\npicture\\nwin\",\n",
    "    \"Best\\nactor\\nwin\",\n",
    "    \"Best\\nactress\\nwin\",\n",
    "    \"Best\\ndirector\\nwin\"\n",
    ")\n",
    "prop_win = {\n",
    "    \"No\": np.array(No_list),\n",
    "    \"Yes\": np.array(Yes_list),\n",
    "}\n",
    "width = 0.5\n",
    "\n",
    "fig, ax = plt.subplots()\n",
    "bottom = np.zeros(5)\n",
    "\n",
    "for boolean, prop_win in prop_win.items():\n",
    "    p = ax.bar(Categories, prop_win, width, label=boolean, bottom=bottom)\n",
    "    bottom += prop_win\n",
    "\n",
    "ax.set_title(\"Proportion of movies with nominations or wins\")\n",
    "ax.set_ylabel(\"Proportion\")\n",
    "ax.legend(loc=\"lower right\")\n",
    "\n",
    "plt.show()\n"
   ]
  },
  {
   "cell_type": "markdown",
   "metadata": {
    "deletable": false,
    "editable": false
   },
   "source": [
    "<!-- END QUESTION -->\n",
    "\n",
    "<!-- BEGIN QUESTION -->\n",
    "\n",
    "## Q1(l) Visualization: Two Variables \n",
    "\n",
    "Create an overlapping density plot for `critics_score` grouped by `audience_rating`. "
   ]
  },
  {
   "cell_type": "code",
   "execution_count": 22,
   "metadata": {
    "tags": []
   },
   "outputs": [
    {
     "data": {
      "text/plain": [
       "''"
      ]
     },
     "execution_count": 22,
     "metadata": {},
     "output_type": "execute_result"
    },
    {
     "data": {
      "image/png": "[encoded data removed]",
      "text/plain": [
       "<Figure size 640x480 with 1 Axes>"
      ]
     },
     "metadata": {},
     "output_type": "display_data"
    }
   ],
   "source": [
    "# Create overlapping density plot\n",
    "\n",
    "\n",
    "# NOTE the kde plot extends beyond the actual range of critics' score values, which range from 0-100\n",
    "# Create overlapping density plot\n",
    "Q1lfig = sns.kdeplot(data=movies,\n",
    "                     x='critics_score',\n",
    "                     hue='audience_rating',\n",
    "                     fill=True,\n",
    "                     alpha=0.40,\n",
    "                     )\n",
    "                     \n",
    "# Set titles and labels\n",
    "Q1lfig.set_title(\"Distribution of critics' score by audience rating\")\n",
    "Q1lfig.set_xlabel(\"Critics' score\")\n",
    "# Note that labels have been rearranged to match correctly with data\n",
    "Q1lfig.legend(title='Audience rating', labels=['Spilled', 'Upright'])\n",
    ";"
   ]
  },
  {
   "cell_type": "markdown",
   "metadata": {
    "deletable": false,
    "editable": false
   },
   "source": [
    "<!-- END QUESTION -->\n",
    "\n",
    "<!-- BEGIN QUESTION -->\n",
    "\n",
    "## Q1(m) Visualization: Multiple variables \n",
    "\n",
    "Create a small multiples (or faceted) scatter plot of `imdb_rating` (y-axis) against `runtime` (x-axis) for each `critics_rating`.\n"
   ]
  },
  {
   "cell_type": "code",
   "execution_count": 23,
   "metadata": {
    "tags": []
   },
   "outputs": [
    {
     "data": {
      "text/plain": [
       "''"
      ]
     },
     "execution_count": 23,
     "metadata": {},
     "output_type": "execute_result"
    },
    {
     "data": {
      "image/png": "[encoded data removed]",
      "text/plain": [
       "<Figure size 1500x500 with 3 Axes>"
      ]
     },
     "metadata": {},
     "output_type": "display_data"
    }
   ],
   "source": [
    "\n",
    "# Create a small multiples (or faceted) scatter plot of `imdb_rating` vs. \n",
    "#   `runtime` for each `critics_rating`.\n",
    "\n",
    "# movies ['imdb_rating'] is continuous numerical\n",
    "# movies['runtime'] is continuous numerical\n",
    "# movies['critics_rating'] is categorical ordinal:\n",
    "    # Rotten = <60% positive reviews\n",
    "    # Fresh = >60% or higher positive reviews\n",
    "    # Certified Fresh = >75% positive reviews along with meeting other criteria\n",
    "\n",
    "# Subset data and sort\n",
    "    # Select only data needed for plot\n",
    "Q1m = movies[['imdb_rating', 'runtime', 'critics_rating']]\n",
    "    # Sort data to match ascending quality score\n",
    "Q1m = Q1m.sort_values(by='critics_rating', ascending=False)\n",
    "\n",
    "# Make faceted figure\n",
    "Q1mFig = sns.relplot(data=Q1m,\n",
    "            x='runtime',\n",
    "            y='imdb_rating',\n",
    "            col='critics_rating',\n",
    "            kind='scatter',\n",
    "            col_wrap=3)\n",
    "\n",
    "# Set title and axis labels\n",
    "Q1mFig.set_titles(\"Critics' rating: {col_name}\")\n",
    "Q1mFig.set_xlabels(\"Runtime (minutes)\")\n",
    "Q1mFig.set_ylabels(\"IMDb rating (1-10)\")\n",
    ";\n"
   ]
  },
  {
   "cell_type": "markdown",
   "metadata": {
    "deletable": false,
    "editable": false
   },
   "source": [
    "<!-- END QUESTION -->\n",
    "\n",
    "<!-- BEGIN QUESTION -->\n",
    "\n",
    "## Q1(bonus)   \n",
    "\n",
    "Create a small multiples (or faceted) scatter plot of `imdb_rating` vs. `runtime` for each of the top 4 `genre` (in order of most frequent), colored with the `critics_rating`."
   ]
  },
  {
   "cell_type": "code",
   "execution_count": 24,
   "metadata": {
    "tags": []
   },
   "outputs": [
    {
     "data": {
      "text/plain": [
       "''"
      ]
     },
     "execution_count": 24,
     "metadata": {},
     "output_type": "execute_result"
    },
    {
     "data": {
      "image/png": "[encoded data removed]",
      "text/plain": [
       "<Figure size 1150.88x1000 with 4 Axes>"
      ]
     },
     "metadata": {},
     "output_type": "display_data"
    }
   ],
   "source": [
    "\n",
    "# Create a small multiples (or faceted) scatter plot of `imdb_rating` vs. \n",
    "#   `runtime` for each of the top 4 `genre`, colored by the `critics_rating`\n",
    "\n",
    "\n",
    "# Subset data and sort\n",
    "    # Select only columns needed for plot\n",
    "Q1m = movies[['imdb_rating', 'runtime', 'genre', 'critics_rating']]\n",
    "    # Select only the genres with the top 4 frequencies\n",
    "Q1mTop4 = (Q1m.groupby('genre')\n",
    "           .size()\n",
    "           .reset_index(name='size')\n",
    "           .sort_values(by='size', ascending=False)\n",
    "           .head(4)\n",
    "           .iloc[:4, 0]\n",
    "          )\n",
    "\n",
    "Q1mTop4Full = Q1m[Q1m['genre'].isin(Q1mTop4)]\n",
    "\n",
    "# Make faceted figure\n",
    "Q1mFig = sns.relplot(data=Q1mTop4Full,\n",
    "            x='runtime',\n",
    "            y='imdb_rating',\n",
    "            col='genre',\n",
    "            hue='critics_rating',\n",
    "            kind='scatter',\n",
    "            col_wrap=2)\n",
    "\n",
    "# Set title, axis labels, and legend title\n",
    "Q1mFig.set_titles(\"Genre: {col_name}\")\n",
    "Q1mFig.set_xlabels(\"Runtime (minutes)\")\n",
    "Q1mFig.set_ylabels(\"IMDb rating (1-10)\")\n",
    "Q1mFig._legend.set_title(\"Critics' rating\")\n",
    "# Move legend\n",
    "sns.move_legend(Q1mFig, \"upper right\")\n",
    ";\n"
   ]
  },
  {
   "cell_type": "markdown",
   "metadata": {
    "deletable": false,
    "editable": false
   },
   "source": [
    "<!-- END QUESTION -->\n",
    "\n",
    "# Q2 - Data Preprocessing \n",
    "\n",
    "You are asked to write two functions `minmaxNorm` and `zscoreNorm` to perform normalization on passed in data. Do not just use preprocessing or normalization functions available in Python.\n",
    "\n",
    "The function `minmaxNorm` should take four arguments\n",
    "* `trData` - the training data (use to establish the data properties for normalization)\n",
    "* `teData` - the testing data, (if supplied default: None), to also be normalized according the the same data properties\n",
    "* `minV` - minimum value of new range (default: 0)\n",
    "* `maxV` - maximum value of new range (default: 1)\n",
    "\n",
    "The function `zscoreNorm` should take three arguments\n",
    "* `trData` - the training data (use to establish the data properties for normalization)\n",
    "* `teData` - the testing data, (if supplied default: None), to also be normalized according the the same data properties\n",
    "* `madFlag` - boolean flag, if positive, use mean abs. deviation instead of standard deviation. (default: False)\n",
    "\n",
    "For many of our tasks, the data is split into subsets (by sample) of training and testing data (see slides: 03.classify.part2). The training data is used to estimate the parameters needed in the transformation: for `zscoreNorm`, μ - mean and σ - standard deviation for each attribute; for `minmaxNorm`, *min* and *max* values for each attribute.\n",
    "\n",
    "Both the training and testing data (if passed in) are to be transformed using the parameters from the training data and passed into the function. If the input is 2D a matrix/data frame/etc., then be sure to scale each feature (column) separately.\n",
    "\n",
    "In Python, the functions should work on lists (a single variable dataset), np.arrays (1D - a single variable dataset and 2D), and data frames (see sample inputs below). \n",
    "\n",
    "The functions should return a tuple-Python of the transformed training data and transformed testing data.  In Python, each item of the tuple should be a numpy array.  If no test data is included as input return None for this item of the tuple. \n",
    "\n",
    "A few example test cases are supplied with more tested.\n",
    "\n",
    "*Hint:* \n",
    "I suggest taking the input training/testing data and converting to the same type, e.g., numpy arrays.  Then, do the normalization calculations on this single type of data object. \n",
    "\n",
    "### Test Examples \n",
    "\n",
    "```\n",
    "in1 = [0, 1, 2, 5]\n",
    "out1 = minmaxNorm(in1, None)\n",
    "print(out1)\n",
    "\n",
    "in2 = np.array([0, 1, 2, 4, 8])\n",
    "out2 = minmaxNorm(in2, None, -1, 1)\n",
    "print(out2)\n",
    "\n",
    "in3 = np.array([[1, 3, 4, 5], [2, 6, 5, 8], [3, 4, 6, 9]])\n",
    "in3test = np.array([2.5, 5, 4, 7])\n",
    "out3 = minmaxNorm(in3, in3test, -1, 1)\n",
    "print(out3)\n",
    "\n",
    "in4 = pd.DataFrame([[1, 3, 4, 5], [2, 6, 5, 8],\n",
    "                    [3, 4, 6, 9]])\n",
    "out4 = minmaxNorm(in4, in3test, 0, 10)\n",
    "print(out4)\n",
    "```\n",
    "\n",
    "    (array([0. , 0.2, 0.4, 1. ]), None)\n",
    "    (array([-1.  , -0.75, -0.5 ,  0.  ,  1.  ]), None)\n",
    "    (array([[-1.        , -1.        , -1.        , -1.        ],\n",
    "           [ 0.        ,  1.        ,  0.        ,  0.5       ],\n",
    "           [ 1.        , -0.33333333,  1.        ,  1.        ]]), array([ 0.5       ,  0.33333333, -1.        ,  0.        ]))\n",
    "    (array([[ 0.        ,  0.        ,  0.        ,  0.        ],\n",
    "           [ 5.        , 10.        ,  5.        ,  7.5       ],\n",
    "           [10.        ,  3.33333333, 10.        , 10.        ]]), array([7.5       , 6.66666667, 0.        , 5.        ]))\n"
   ]
  },
  {
   "cell_type": "code",
   "execution_count": 25,
   "metadata": {
    "tags": []
   },
   "outputs": [
    {
     "name": "stdout",
     "output_type": "stream",
     "text": [
      "(array([0. , 0.2, 0.4, 1. ]), None)\n",
      "(array([-1.  , -0.75, -0.5 ,  0.  ,  1.  ]), None)\n",
      "(array([[-1.  , -0.5 , -0.25,  0.  ],\n",
      "       [-0.75,  0.25,  0.  ,  0.75],\n",
      "       [-0.5 , -0.25,  0.25,  1.  ]]), array([-0.625,  0.   , -0.25 ,  0.5  ]))\n",
      "(array([[ 0.  ,  2.5 ,  3.75,  5.  ],\n",
      "       [ 1.25,  6.25,  5.  ,  8.75],\n",
      "       [ 2.5 ,  3.75,  6.25, 10.  ]]), array([1.875, 5.   , 3.75 , 7.5  ]))\n"
     ]
    }
   ],
   "source": [
    "def minmaxNorm(trData, teData=None, minV=0, maxV=1):\n",
    "    # Perform min-max normalization on trData and teData\n",
    "    # return a tuple of the transformed data as numpy arrays\n",
    "    trDataArray = np.array(trData)\n",
    "    min1 = trDataArray.min()\n",
    "    max1 = trDataArray.max()\n",
    "    trDataNorm = ((trDataArray-min1)/(max1-min1))*(maxV-minV)+minV\n",
    "    # Normalize testing data if provided\n",
    "    if teData is None:\n",
    "        return trDataNorm, None\n",
    "    teDataArray = np.array(teData)\n",
    "    teDataNorm = ((teDataArray-min1)/(max1-min1))*(maxV-minV)+minV\n",
    "    return trDataNorm, teDataNorm\n",
    "\n",
    "\n",
    "# Testing code below - do not modify\n",
    "in1 = [0, 1, 2, 5]\n",
    "out1 = minmaxNorm(in1, None)\n",
    "print(out1)\n",
    "\n",
    "in2 = np.array([0, 1, 2, 4, 8])\n",
    "out2 = minmaxNorm(in2, None, -1, 1)\n",
    "print(out2)\n",
    "\n",
    "in3 = np.array([[1, 3, 4, 5], [2, 6, 5, 8], [3, 4, 6, 9]])\n",
    "in3test = np.array([2.5, 5, 4, 7])\n",
    "out3 = minmaxNorm(in3, in3test, -1, 1)\n",
    "print(out3)\n",
    "\n",
    "in4 = pd.DataFrame([[1, 3, 4, 5], [2, 6, 5, 8],\n",
    "                    [3, 4, 6, 9]])\n",
    "out4 = minmaxNorm(in4, in3test, 0, 10)\n",
    "print(out4)"
   ]
  },
  {
   "cell_type": "code",
   "execution_count": 28,
   "metadata": {
    "tags": []
   },
   "outputs": [],
   "source": [
    "\n",
    "def zscoreNorm(trData, teData=None, madFlag=0):\n",
    "    # Perform Gaussian normalization on trData and teData\n",
    "    # return a tuple of the transformed data\n",
    "    # Convert to np.array dtype\n",
    "    trDataArray = np.array(trData)\n",
    "    # Calculate parameters for equations\n",
    "    mean = trDataArray.mean()\n",
    "    stdev = np.std(trDataArray)\n",
    "    mad = np.mean(np.abs(trDataArray-mean))\n",
    "    # Equation for calculating z-score normalization\n",
    "    # When madFlag==0, then use standard deviation\n",
    "    if madFlag == 0:\n",
    "        trDataNorm = (trDataArray-mean)/stdev\n",
    "    # When madFlag==1, then use mean absolute deviation\n",
    "    else:\n",
    "        trDataNorm = (trDataArray-mean)/mad\n",
    "    # Normalize testing data if provided\n",
    "    if teData is None:\n",
    "        return trDataNorm, None\n",
    "    if madFlag == 0:\n",
    "        teDataArray = np.array(teData)\n",
    "        teDataNorm = (teDataArray-mean)/stdev\n",
    "    else:\n",
    "        teDataArray = np.array(teData)\n",
    "        teDataNorm = (teDataArray-mean)/mad\n",
    "    return trDataNorm, teDataNorm\n"
   ]
  },
  {
   "cell_type": "code",
   "execution_count": 27,
   "metadata": {
    "deletable": false,
    "editable": false
   },
   "outputs": [
    {
     "data": {
      "text/html": [
       "<p><strong style='color: red;'><pre style='display: inline;'>q2</pre> results:</strong></p><p><strong><pre style='display: inline;'>q2 - 1</pre> result:</strong></p><pre>    ✅ Test case passed</pre><p><strong><pre style='display: inline;'>q2 - 2</pre> result:</strong></p><pre>    ✅ Test case passed</pre><p><strong><pre style='display: inline;'>q2 - 3</pre> result:</strong></p><pre>    ✅ Test case passed</pre><p><strong><pre style='display: inline;'>q2 - 4</pre> result:</strong></p><pre>    ✅ Test case passed</pre><p><strong><pre style='display: inline;'>q2 - 5</pre> result:</strong></p><pre>    ✅ Test case passed</pre><p><strong><pre style='display: inline;'>q2 - 6</pre> result:</strong></p><pre>    ✅ Test case passed</pre><p><strong><pre style='display: inline;'>q2 - 7</pre> result:</strong></p><pre>    ✅ Test case passed</pre><p><strong><pre style='display: inline;'>q2 - 8</pre> result:</strong></p><pre>    ✅ Test case passed</pre><p><strong><pre style='display: inline;'>q2 - 9</pre> result:</strong></p><pre>    ❌ Test case failed\n",
       "    Trying:\n",
       "        in3 = np.array([[1, 3, 5, 4], [2, 6, 3, 8], [3, 10, 6, 9]])\n",
       "    Expecting nothing\n",
       "    ok\n",
       "    Trying:\n",
       "        out9 = minmaxNorm(in3, None)\n",
       "    Expecting nothing\n",
       "    ok\n",
       "    Trying:\n",
       "        np.allclose(out9[0], np.array([[0.0, 0.0, 0.66666667, 0.0], [0.5, 0.42857143, 0.0, 0.8], [1.0, 1.0, 1.0, 1.0]]))\n",
       "    Expecting:\n",
       "        True\n",
       "    **********************************************************************\n",
       "    Line 3, in q2 8\n",
       "    Failed example:\n",
       "        np.allclose(out9[0], np.array([[0.0, 0.0, 0.66666667, 0.0], [0.5, 0.42857143, 0.0, 0.8], [1.0, 1.0, 1.0, 1.0]]))\n",
       "    Expected:\n",
       "        True\n",
       "    Got:\n",
       "        False\n",
       "</pre><p><strong><pre style='display: inline;'>q2 - 10</pre> result:</strong></p><pre>    ❌ Test case failed\n",
       "    Trying:\n",
       "        in3 = np.array([[1, 3, 5, 4], [2, 6, 3, 8], [3, 10, 6, 9]])\n",
       "    Expecting nothing\n",
       "    ok\n",
       "    Trying:\n",
       "        out12 = zscoreNorm(in3, None)\n",
       "    Expecting nothing\n",
       "    ok\n",
       "    Trying:\n",
       "        np.allclose(out12[0], np.array([[-1.22474487, -1.16247639, 0.26726124, -1.38873015], [0.0, -0.11624764, -1.33630621, 0.46291005], [1.22474487, 1.27872403, 1.06904497, 0.9258201]]))\n",
       "    Expecting:\n",
       "        True\n",
       "    **********************************************************************\n",
       "    Line 3, in q2 9\n",
       "    Failed example:\n",
       "        np.allclose(out12[0], np.array([[-1.22474487, -1.16247639, 0.26726124, -1.38873015], [0.0, -0.11624764, -1.33630621, 0.46291005], [1.22474487, 1.27872403, 1.06904497, 0.9258201]]))\n",
       "    Expected:\n",
       "        True\n",
       "    Got:\n",
       "        False\n",
       "</pre><p><strong><pre style='display: inline;'>q2 - 11</pre> result:</strong></p><pre>    ❌ Test case failed\n",
       "    Trying:\n",
       "        in3 = np.array([[1, 3, 5, 4], [2, 6, 3, 8], [3, 10, 6, 9]])\n",
       "    Expecting nothing\n",
       "    ok\n",
       "    Trying:\n",
       "        out13 = zscoreNorm(in3, np.array([1, 6, 5, 8]))\n",
       "    Expecting nothing\n",
       "    ok\n",
       "    Trying:\n",
       "        np.allclose(out13[0], np.array([[-1.22474487, -1.16247639, 0.26726124, -1.38873015], [0.0, -0.11624764, -1.33630621, 0.46291005], [1.22474487, 1.27872403, 1.06904497, 0.9258201]])) & np.allclose(out13[1], np.array([-1.22474487, -0.11624764, 0.26726124, 0.46291005]))\n",
       "    Expecting:\n",
       "        True\n",
       "    **********************************************************************\n",
       "    Line 3, in q2 10\n",
       "    Failed example:\n",
       "        np.allclose(out13[0], np.array([[-1.22474487, -1.16247639, 0.26726124, -1.38873015], [0.0, -0.11624764, -1.33630621, 0.46291005], [1.22474487, 1.27872403, 1.06904497, 0.9258201]])) & np.allclose(out13[1], np.array([-1.22474487, -0.11624764, 0.26726124, 0.46291005]))\n",
       "    Expected:\n",
       "        True\n",
       "    Got:\n",
       "        False\n",
       "</pre><p><strong><pre style='display: inline;'>q2 - 12</pre> result:</strong></p><pre>    ❌ Test case failed\n",
       "    Trying:\n",
       "        in3 = np.array([[1, 3, 5, 4], [2, 6, 3, 8], [3, 10, 6, 9]])\n",
       "    Expecting nothing\n",
       "    ok\n",
       "    Trying:\n",
       "        out14 = zscoreNorm(in3, np.array([[1, 3, 4, 5], [3, 2, 5, 6]]), madFlag=1)\n",
       "    Expecting nothing\n",
       "    ok\n",
       "    Trying:\n",
       "        np.allclose(out14[0], np.array([[-1.5, -1.36363636, 0.3, -1.5], [0.0, -0.13636364, -1.5, 0.5], [1.5, 1.5, 1.2, 1.0]])) & np.allclose(out14[1], np.array([[-1.5, -1.36363636, -0.6, -1.0], [1.5, -1.77272727, 0.3, -0.5]]))\n",
       "    Expecting:\n",
       "        True\n",
       "    **********************************************************************\n",
       "    Line 3, in q2 11\n",
       "    Failed example:\n",
       "        np.allclose(out14[0], np.array([[-1.5, -1.36363636, 0.3, -1.5], [0.0, -0.13636364, -1.5, 0.5], [1.5, 1.5, 1.2, 1.0]])) & np.allclose(out14[1], np.array([[-1.5, -1.36363636, -0.6, -1.0], [1.5, -1.77272727, 0.3, -0.5]]))\n",
       "    Expected:\n",
       "        True\n",
       "    Got:\n",
       "        False\n",
       "</pre><p><strong><pre style='display: inline;'>q2 - 13</pre> result:</strong></p><pre>    ❌ Test case failed\n",
       "    Trying:\n",
       "        in4 = pd.DataFrame([[1, 3, 4, 5], [2, 6, 5, 8], [3, 4, 6, 9]])\n",
       "    Expecting nothing\n",
       "    ok\n",
       "    Trying:\n",
       "        in5 = pd.DataFrame([[2, 3, 6, 7], [4, 3, 8, 5]])\n",
       "    Expecting nothing\n",
       "    ok\n",
       "    Trying:\n",
       "        out15 = minmaxNorm(in4, None)\n",
       "    Expecting nothing\n",
       "    ok\n",
       "    Trying:\n",
       "        np.allclose(out15[0], np.array([[0.0, 0.0, 0.0, 0.0], [0.5, 1.0, 0.5, 0.75], [1.0, 0.33333333, 1.0, 1.0]])) & (out15[1] == None)\n",
       "    Expecting:\n",
       "        True\n",
       "    **********************************************************************\n",
       "    Line 4, in q2 12\n",
       "    Failed example:\n",
       "        np.allclose(out15[0], np.array([[0.0, 0.0, 0.0, 0.0], [0.5, 1.0, 0.5, 0.75], [1.0, 0.33333333, 1.0, 1.0]])) & (out15[1] == None)\n",
       "    Expected:\n",
       "        True\n",
       "    Got:\n",
       "        False\n",
       "</pre><p><strong><pre style='display: inline;'>q2 - 14</pre> result:</strong></p><pre>    ❌ Test case failed\n",
       "    Trying:\n",
       "        in4 = pd.DataFrame([[1, 3, 4, 5], [2, 6, 5, 8], [3, 4, 6, 9]])\n",
       "    Expecting nothing\n",
       "    ok\n",
       "    Trying:\n",
       "        out17 = zscoreNorm(in4, None)\n",
       "    Expecting nothing\n",
       "    ok\n",
       "    Trying:\n",
       "        np.allclose(out17[0], np.array([[-1.22474487, -1.06904497, -1.22474487, -1.37281295], [0.0, 1.33630621, 0.0, 0.39223227], [1.22474487, -0.26726124, 1.22474487, 0.98058068]])) & (out17[1] == None)\n",
       "    Expecting:\n",
       "        True\n",
       "    **********************************************************************\n",
       "    Line 3, in q2 13\n",
       "    Failed example:\n",
       "        np.allclose(out17[0], np.array([[-1.22474487, -1.06904497, -1.22474487, -1.37281295], [0.0, 1.33630621, 0.0, 0.39223227], [1.22474487, -0.26726124, 1.22474487, 0.98058068]])) & (out17[1] == None)\n",
       "    Expected:\n",
       "        True\n",
       "    Got:\n",
       "        False\n",
       "</pre>"
      ],
      "text/plain": [
       "q2 results:\n",
       "    q2 - 1 result:\n",
       "        ✅ Test case passed\n",
       "\n",
       "    q2 - 2 result:\n",
       "        ✅ Test case passed\n",
       "\n",
       "    q2 - 3 result:\n",
       "        ✅ Test case passed\n",
       "\n",
       "    q2 - 4 result:\n",
       "        ✅ Test case passed\n",
       "\n",
       "    q2 - 5 result:\n",
       "        ✅ Test case passed\n",
       "\n",
       "    q2 - 6 result:\n",
       "        ✅ Test case passed\n",
       "\n",
       "    q2 - 7 result:\n",
       "        ✅ Test case passed\n",
       "\n",
       "    q2 - 8 result:\n",
       "        ✅ Test case passed\n",
       "\n",
       "    q2 - 9 result:\n",
       "        ❌ Test case failed\n",
       "        Trying:\n",
       "            in3 = np.array([[1, 3, 5, 4], [2, 6, 3, 8], [3, 10, 6, 9]])\n",
       "        Expecting nothing\n",
       "        ok\n",
       "        Trying:\n",
       "            out9 = minmaxNorm(in3, None)\n",
       "        Expecting nothing\n",
       "        ok\n",
       "        Trying:\n",
       "            np.allclose(out9[0], np.array([[0.0, 0.0, 0.66666667, 0.0], [0.5, 0.42857143, 0.0, 0.8], [1.0, 1.0, 1.0, 1.0]]))\n",
       "        Expecting:\n",
       "            True\n",
       "        **********************************************************************\n",
       "        Line 3, in q2 8\n",
       "        Failed example:\n",
       "            np.allclose(out9[0], np.array([[0.0, 0.0, 0.66666667, 0.0], [0.5, 0.42857143, 0.0, 0.8], [1.0, 1.0, 1.0, 1.0]]))\n",
       "        Expected:\n",
       "            True\n",
       "        Got:\n",
       "            False\n",
       "\n",
       "    q2 - 10 result:\n",
       "        ❌ Test case failed\n",
       "        Trying:\n",
       "            in3 = np.array([[1, 3, 5, 4], [2, 6, 3, 8], [3, 10, 6, 9]])\n",
       "        Expecting nothing\n",
       "        ok\n",
       "        Trying:\n",
       "            out12 = zscoreNorm(in3, None)\n",
       "        Expecting nothing\n",
       "        ok\n",
       "        Trying:\n",
       "            np.allclose(out12[0], np.array([[-1.22474487, -1.16247639, 0.26726124, -1.38873015], [0.0, -0.11624764, -1.33630621, 0.46291005], [1.22474487, 1.27872403, 1.06904497, 0.9258201]]))\n",
       "        Expecting:\n",
       "            True\n",
       "        **********************************************************************\n",
       "        Line 3, in q2 9\n",
       "        Failed example:\n",
       "            np.allclose(out12[0], np.array([[-1.22474487, -1.16247639, 0.26726124, -1.38873015], [0.0, -0.11624764, -1.33630621, 0.46291005], [1.22474487, 1.27872403, 1.06904497, 0.9258201]]))\n",
       "        Expected:\n",
       "            True\n",
       "        Got:\n",
       "            False\n",
       "\n",
       "    q2 - 11 result:\n",
       "        ❌ Test case failed\n",
       "        Trying:\n",
       "            in3 = np.array([[1, 3, 5, 4], [2, 6, 3, 8], [3, 10, 6, 9]])\n",
       "        Expecting nothing\n",
       "        ok\n",
       "        Trying:\n",
       "            out13 = zscoreNorm(in3, np.array([1, 6, 5, 8]))\n",
       "        Expecting nothing\n",
       "        ok\n",
       "        Trying:\n",
       "            np.allclose(out13[0], np.array([[-1.22474487, -1.16247639, 0.26726124, -1.38873015], [0.0, -0.11624764, -1.33630621, 0.46291005], [1.22474487, 1.27872403, 1.06904497, 0.9258201]])) & np.allclose(out13[1], np.array([-1.22474487, -0.11624764, 0.26726124, 0.46291005]))\n",
       "        Expecting:\n",
       "            True\n",
       "        **********************************************************************\n",
       "        Line 3, in q2 10\n",
       "        Failed example:\n",
       "            np.allclose(out13[0], np.array([[-1.22474487, -1.16247639, 0.26726124, -1.38873015], [0.0, -0.11624764, -1.33630621, 0.46291005], [1.22474487, 1.27872403, 1.06904497, 0.9258201]])) & np.allclose(out13[1], np.array([-1.22474487, -0.11624764, 0.26726124, 0.46291005]))\n",
       "        Expected:\n",
       "            True\n",
       "        Got:\n",
       "            False\n",
       "\n",
       "    q2 - 12 result:\n",
       "        ❌ Test case failed\n",
       "        Trying:\n",
       "            in3 = np.array([[1, 3, 5, 4], [2, 6, 3, 8], [3, 10, 6, 9]])\n",
       "        Expecting nothing\n",
       "        ok\n",
       "        Trying:\n",
       "            out14 = zscoreNorm(in3, np.array([[1, 3, 4, 5], [3, 2, 5, 6]]), madFlag=1)\n",
       "        Expecting nothing\n",
       "        ok\n",
       "        Trying:\n",
       "            np.allclose(out14[0], np.array([[-1.5, -1.36363636, 0.3, -1.5], [0.0, -0.13636364, -1.5, 0.5], [1.5, 1.5, 1.2, 1.0]])) & np.allclose(out14[1], np.array([[-1.5, -1.36363636, -0.6, -1.0], [1.5, -1.77272727, 0.3, -0.5]]))\n",
       "        Expecting:\n",
       "            True\n",
       "        **********************************************************************\n",
       "        Line 3, in q2 11\n",
       "        Failed example:\n",
       "            np.allclose(out14[0], np.array([[-1.5, -1.36363636, 0.3, -1.5], [0.0, -0.13636364, -1.5, 0.5], [1.5, 1.5, 1.2, 1.0]])) & np.allclose(out14[1], np.array([[-1.5, -1.36363636, -0.6, -1.0], [1.5, -1.77272727, 0.3, -0.5]]))\n",
       "        Expected:\n",
       "            True\n",
       "        Got:\n",
       "            False\n",
       "\n",
       "    q2 - 13 result:\n",
       "        ❌ Test case failed\n",
       "        Trying:\n",
       "            in4 = pd.DataFrame([[1, 3, 4, 5], [2, 6, 5, 8], [3, 4, 6, 9]])\n",
       "        Expecting nothing\n",
       "        ok\n",
       "        Trying:\n",
       "            in5 = pd.DataFrame([[2, 3, 6, 7], [4, 3, 8, 5]])\n",
       "        Expecting nothing\n",
       "        ok\n",
       "        Trying:\n",
       "            out15 = minmaxNorm(in4, None)\n",
       "        Expecting nothing\n",
       "        ok\n",
       "        Trying:\n",
       "            np.allclose(out15[0], np.array([[0.0, 0.0, 0.0, 0.0], [0.5, 1.0, 0.5, 0.75], [1.0, 0.33333333, 1.0, 1.0]])) & (out15[1] == None)\n",
       "        Expecting:\n",
       "            True\n",
       "        **********************************************************************\n",
       "        Line 4, in q2 12\n",
       "        Failed example:\n",
       "            np.allclose(out15[0], np.array([[0.0, 0.0, 0.0, 0.0], [0.5, 1.0, 0.5, 0.75], [1.0, 0.33333333, 1.0, 1.0]])) & (out15[1] == None)\n",
       "        Expected:\n",
       "            True\n",
       "        Got:\n",
       "            False\n",
       "\n",
       "    q2 - 14 result:\n",
       "        ❌ Test case failed\n",
       "        Trying:\n",
       "            in4 = pd.DataFrame([[1, 3, 4, 5], [2, 6, 5, 8], [3, 4, 6, 9]])\n",
       "        Expecting nothing\n",
       "        ok\n",
       "        Trying:\n",
       "            out17 = zscoreNorm(in4, None)\n",
       "        Expecting nothing\n",
       "        ok\n",
       "        Trying:\n",
       "            np.allclose(out17[0], np.array([[-1.22474487, -1.06904497, -1.22474487, -1.37281295], [0.0, 1.33630621, 0.0, 0.39223227], [1.22474487, -0.26726124, 1.22474487, 0.98058068]])) & (out17[1] == None)\n",
       "        Expecting:\n",
       "            True\n",
       "        **********************************************************************\n",
       "        Line 3, in q2 13\n",
       "        Failed example:\n",
       "            np.allclose(out17[0], np.array([[-1.22474487, -1.06904497, -1.22474487, -1.37281295], [0.0, 1.33630621, 0.0, 0.39223227], [1.22474487, -0.26726124, 1.22474487, 0.98058068]])) & (out17[1] == None)\n",
       "        Expected:\n",
       "            True\n",
       "        Got:\n",
       "            False"
      ]
     },
     "execution_count": 27,
     "metadata": {},
     "output_type": "execute_result"
    }
   ],
   "source": [
    "grader.check(\"q2\")"
   ]
  },
  {
   "cell_type": "markdown",
   "metadata": {
    "deletable": false,
    "editable": false
   },
   "source": [
    "# Q3 - Data Preprocessing\n",
    "\n",
    "Let's now compare the normalization functions that you wrote above to using the normalization functions that are available in standard libraries: \n",
    "\n",
    "* Python: `MinMaxScaler` and `StandardScaler` or scale in `sklearn.preprocessing`\n"
   ]
  },
  {
   "cell_type": "code",
   "execution_count": null,
   "metadata": {
    "tags": []
   },
   "outputs": [],
   "source": [
    "# train/test data \n",
    "q3train = pd.DataFrame({'x1': [20, 37, 40, 60, 85, 120], 'x2': [-10, -8, 52, 3, 18, 23]})\n",
    "q3test = pd.DataFrame({'x1': [42, 58, 101], 'x2': [-8, 42, 54]})\n",
    "\n",
    "q3outA = minmaxNorm(q3train, None)\n",
    "print(q3outA)\n",
    "\n",
    "q3outB = zscoreNorm(q3train, q3test)\n",
    "print(q3outB)\n",
    "\n",
    "# use MinMaxScaler with default range parameters\n",
    "scaler = ...\n",
    "q3outC = ...\n",
    "print(q3outC)\n",
    "\n",
    "# use StandardScaler\n",
    "scaler = ...\n",
    "q3outDtrain = ...\n",
    "q3outDtest = ...\n",
    "print(q3outDtrain)\n",
    "print(q3outDtest)\n"
   ]
  },
  {
   "cell_type": "code",
   "execution_count": null,
   "metadata": {
    "deletable": false,
    "editable": false
   },
   "outputs": [],
   "source": [
    "grader.check(\"q3\")"
   ]
  },
  {
   "cell_type": "markdown",
   "metadata": {
    "deletable": false,
    "editable": false,
    "tags": []
   },
   "source": [
    "# Q4 - Performance Metrics \n",
    "\n",
    "Write a function to calculate: \n",
    "(a) true positive rate,\n",
    "(b) false positive rate, \n",
    "(c) accuracy, and \n",
    "(d) Matthews Correlation Coefficient (MCC). \n",
    "\n",
    "You can make use of `sklearn.metrics` functions. \n",
    "\n",
    "The function will have inputs of `y_true` (np.array) - the true label for a set of samples and `y_pred` (np.array) - the predicted labels for a set of samples, and a threshold `thres_value` (float). \n",
    "\n",
    "The function returns a list of the true positive rate, false positive rate, accuracy and MCC for the inputs where the predicted labels are thresholded at the provided value (using >= comparisons). \n",
    "\n",
    "\n",
    "This function will then be used to create a DataFrames  with rows corresponding with the 10 thresholds (y_pred values) and columns reporting the different thresholds, the true positive rate (TPR), false positive rate (FPR), accuracy (ACC), and Matthews correlation coefficient (MCC).\n",
    "\n"
   ]
  },
  {
   "cell_type": "code",
   "execution_count": null,
   "metadata": {
    "tags": []
   },
   "outputs": [],
   "source": [
    "\n",
    "def calc_metrics(y_true, y_pred, thres_value):\n",
    "    # Calculate tpr, fpr, accuracy, and MCC on input\n",
    "    # Input: \n",
    "    #  y_true - sample labels       (np.array)\n",
    "    #  y_pred - sample predictions  (np.array)\n",
    "    #  thres_value - threshold for predictions,  >= \n",
    "    # Return list of tpr, fpr, accuracy, and MCC \n",
    "    \n",
    "    ...\n",
    "    return ...\n",
    "\n",
    "\n",
    "\n",
    "y_true = np.array([1,1,0,1,1,0,1,0,0,0])\n",
    "y_pred = np.array([0.98,0.92,0.85,0.77,0.71,0.64,0.57,0.42,0.34,0.32])\n",
    "\n",
    "\n",
    "perfDF = pd.DataFrame(columns = ['Threshold', 'TPR', 'FPR', 'ACC', 'MCC']) \n",
    "i = 0 \n",
    "for thres in y_pred: \n",
    "    tpr_val, fpr_val, acc_val, mcc_val = calc_metrics(y_true, y_pred, thres)\n",
    "    perfDF.loc[i] = [thres, tpr_val, fpr_val, acc_val, mcc_val]\n",
    "    i = i+1\n",
    "\n",
    "perfDF"
   ]
  },
  {
   "cell_type": "code",
   "execution_count": null,
   "metadata": {
    "deletable": false,
    "editable": false
   },
   "outputs": [],
   "source": [
    "grader.check(\"q4\")"
   ]
  },
  {
   "cell_type": "markdown",
   "metadata": {
    "deletable": false,
    "editable": false
   },
   "source": [
    "<!-- BEGIN QUESTION -->\n",
    "\n",
    "# Q5 - Plot ROC Curve:\n",
    "\n",
    "Use the results from Question 4 to plot the ROC curve for the data. \n",
    "\n",
    "Note, plot this curve using the standard plotting tools rather than any special library/package available for making ROC plots."
   ]
  },
  {
   "cell_type": "code",
   "execution_count": null,
   "metadata": {
    "tags": []
   },
   "outputs": [],
   "source": [
    "\n",
    "# Create a ROC curve using the results from Q4\n",
    "\n",
    "\n",
    "\n"
   ]
  },
  {
   "cell_type": "markdown",
   "metadata": {
    "deletable": false,
    "editable": false
   },
   "source": [
    "<!-- END QUESTION -->\n",
    "\n",
    "# Q6 - NBA Rookies\n",
    "\n",
    "For this problem you will use a data set of rookie NBA players from 1980 - 2017 seasons.  The dataset was collected from the NBA website API - https://www.nba.com. \n",
    "\n",
    "You will use the data from their rookie year to predict whether a player will last at least 5 seasons in the leaque. \n",
    "\n",
    "The data consists of variables:\n",
    "\n",
    "* `PlayerID`, `Player` - variables to identify individual samples (ignore for prediction)\n",
    "* `Tm`, `Year` - variables describing the year the player started and for what team (ignore for prediction)  \n",
    "* `TARGET` - This is the target / class feature to be predicted (whether the player was in the league for at least 5 years). \n",
    "\n",
    "The remaining variables are predictor variables for the models.  They come in pairs \"*\\_DIFF\" and \"*\\_A\" reporting the given statistic as the difference between Team A and Team B and the statistic itself for Team A. \n",
    "\n",
    "* `Pos` - position of the player, power forward, point guard, shooting guard, center, etc.\n",
    "* `Age` - player age\n",
    "* `G` - sum of number of games played\n",
    "* `GS` - sum of number of games started\n",
    "* `MP` - sum of number of minutes played\n",
    "* `PTS` - sum of number of points scored\n",
    "* `FG` - sum of number of field goals made (both 2 and 3 pointers)\n",
    "* `FGA` - sum of number of field goals attempted\n",
    "* `FG%` - FG / FGA, percentage of field goals made \n",
    "* `3P` - sum of the number of 3 pointers made\n",
    "* `3PA` - sum of the number of 3 pointers attempted\n",
    "* `3P%` - 3P / 3PA, percentage of 3 pointers made\n",
    "* `2P` - sum of the number of 2 point shots made\n",
    "* `2PA` - sum of the number of 2 point shots attempted\n",
    "* `2P%` - 2P / 2PA, percentage of 2 point shots made\n",
    "* `eFG%` - Effective Field Goal Percentage, (`FG` + 0.5 * `3P`)/`FGA`\n",
    "* `FT` - sum of the number of free throws made\n",
    "* `FTA` - sum of the number of free throws attempted\n",
    "* `FT%` - FT / FTA, percentage of free throws made\n",
    "* `ORB` - sum of the number of offensive rebounds\n",
    "* `DRB` - sum of the number of defensive rebounds\n",
    "* `TRB` - sum of the number of total rebounds\n",
    "* `AST` - sum of the number of assists\n",
    "* `STL` - sum of the number of steals\n",
    "* `BLK` - sum of the number of blocks\n",
    "* `TOV` - sum of the number of turnovers\n",
    "* `PF` - sum of the number of personal fouls\n",
    "\n",
    "More information on the stats used can be found: https://www.nba.com/stats/help/glossary   \n",
    "*Note, some of the abbreviations used here are slightly different* \n"
   ]
  },
  {
   "cell_type": "markdown",
   "metadata": {
    "deletable": false,
    "editable": false,
    "tags": []
   },
   "source": [
    "## Q6(a) - Load Data \n",
    "\n",
    "Load the `nba` data.\n"
   ]
  },
  {
   "cell_type": "code",
   "execution_count": null,
   "metadata": {
    "tags": []
   },
   "outputs": [],
   "source": [
    "nba = pd.read_csv(...) \n",
    "\n",
    "nba.head()"
   ]
  },
  {
   "cell_type": "code",
   "execution_count": null,
   "metadata": {
    "deletable": false,
    "editable": false
   },
   "outputs": [],
   "source": [
    "grader.check(\"q6a\")"
   ]
  },
  {
   "cell_type": "markdown",
   "metadata": {
    "deletable": false,
    "editable": false
   },
   "source": [
    "## Q6(b) - Missing Data \n",
    "\n",
    "Let's investigate any missing values in the nba data. \n",
    "\n",
    "First, calculate and report the percentage of missing data for that variable (percentage of rows) in a DataSeries, `miss_nba`. "
   ]
  },
  {
   "cell_type": "code",
   "execution_count": null,
   "metadata": {
    "tags": []
   },
   "outputs": [],
   "source": [
    "miss_nba = ... \n",
    "\n",
    "miss_nba"
   ]
  },
  {
   "cell_type": "code",
   "execution_count": null,
   "metadata": {
    "deletable": false,
    "editable": false
   },
   "outputs": [],
   "source": [
    "grader.check(\"q6b\")"
   ]
  },
  {
   "cell_type": "markdown",
   "metadata": {},
   "source": [
    "Explore where these missing values you in the following code cell. \n",
    "\n",
    "**BE SURE TO COMMENT OUT YOUR CODE BEFORE SUBMITTING**"
   ]
  },
  {
   "cell_type": "code",
   "execution_count": null,
   "metadata": {},
   "outputs": [],
   "source": [
    "# explore where the missing values are in your data. \n"
   ]
  },
  {
   "cell_type": "markdown",
   "metadata": {
    "deletable": false,
    "editable": false
   },
   "source": [
    "## Q6(c) - Handle missing data\n",
    "\n",
    "By investigating where the missing data is, I hope you discovered the following: \n",
    "\n",
    "The missing values reside in two main types of columns (and for two different reasons):\n",
    "* `GS` the game started column has missing values for almost all rookies in the 1980 and 1981 seasons with a few exceptions, e.g., Larry Bird, Clint Richardson, etc.\n",
    "* Columns that calculate a percentage, `FG%`, `3P%`, `2P%`, `eFG%`, `FT%`\n",
    "Here the missing values are due to a divide by zero.\n",
    "\n",
    "Due to the different reasons for the data missing values will be handled differently in each situation. \n",
    "\n",
    "First, the missing values for `GS`, because there is not way to impute these values (and there are so few players in the 1980 and 1981 season having this information), the **all** samples from these two seasons should be deleted. \n",
    "\n",
    "For the missing values in the \"percentage\" columns, replace those missing values with 0. \n",
    "\n",
    "Call you new DataFrame after performing these operations `nba2`.\n",
    "\n",
    "\n",
    "*Note* There may be situations where how you handle missing data (in particular, using imputation methods) should be done in the workflow/pipeline after already splitting for training/testing data in order to avoid possible data leakage.  However, the methods we employ here for dealing the the missing data are not using global properties to perform the imputation, therefore can be done at this state of the analysis. "
   ]
  },
  {
   "cell_type": "code",
   "execution_count": null,
   "metadata": {
    "tags": []
   },
   "outputs": [],
   "source": [
    "nba2 = ... \n",
    "\n",
    "nba2.head()"
   ]
  },
  {
   "cell_type": "code",
   "execution_count": null,
   "metadata": {
    "deletable": false,
    "editable": false
   },
   "outputs": [],
   "source": [
    "grader.check(\"q6c\")"
   ]
  },
  {
   "cell_type": "markdown",
   "metadata": {
    "deletable": false,
    "editable": false
   },
   "source": [
    "## Q6(d) - Labels \n",
    "\n",
    "Let's understand the what we should expect as a baseline performance for predicting whether the rookie play remains in the league for at least 5 years. \n",
    "\n",
    "(i). What fraction of players have a positive target label (in the league for at least 5 years)? Value should be in between 0 and 1.  \n",
    "(ii).  What should a constant classifier model predict?   A *constant classifier* always predicts the same value no matter the input.   \n",
    "(iii).  What is the error rate of the constant classifier? Value should be in between 0 and 1. \n",
    "\n",
    "Answer the following questions below.  Note, you should not use any `sklearn` functions, but simply look at properties of the data labels. \n"
   ]
  },
  {
   "cell_type": "code",
   "execution_count": null,
   "metadata": {
    "tags": []
   },
   "outputs": [],
   "source": [
    "\n",
    "q6d_i = ...\n",
    "\n",
    "q6d_ii = ...\n",
    "\n",
    "q6d_iii = ...\n"
   ]
  },
  {
   "cell_type": "code",
   "execution_count": null,
   "metadata": {
    "deletable": false,
    "editable": false
   },
   "outputs": [],
   "source": [
    "grader.check(\"q6d\")"
   ]
  },
  {
   "cell_type": "markdown",
   "metadata": {
    "deletable": false,
    "editable": false
   },
   "source": [
    "## Q6(e) - Prepare the data \n",
    "\n",
    "At this point, we need to set up the data in order to be used in the classification models. \n",
    "\n",
    "We want to create a DataFrame `nbaX` for the predictor variables and `nbaY` for the target variable. \n",
    "\n",
    "The target variable, `nbaY` will just be the `Target` column of the `nba2` data set. \n",
    "\n",
    "The predictor variables have more considerations. \n",
    "\n",
    "We want to exclude player information such as IDs, `PlayerID` and names `Player`, that are identifying and not predictive.   \n",
    "\n",
    "You should also exclude these other factors (note, that some of these variables may in fact be predictive but we are going to exclude at this time): \n",
    "\n",
    "* `POS` - player position\n",
    "* `Tm` - team\n",
    "* `Year` - rookie year\n",
    "\n",
    "Finally, several of the numeric predictive variables are not only related, but can be directly calculated from one another, e.g., `FG%` = `FG` / `FGA`.  Having variables that are closely related, or in this case redundant may actually hinder the predictive models. \n",
    "\n",
    "Therefore, exclude the following variables: `FG`, `3P`, `2P`, `eFG%`, `FT`, `TRB`. "
   ]
  },
  {
   "cell_type": "code",
   "execution_count": null,
   "metadata": {
    "tags": []
   },
   "outputs": [],
   "source": [
    "nbaY = ...\n",
    "nbaX = ...\n",
    "\n",
    "print(nbaX.shape)\n",
    "print(nbaY.shape)"
   ]
  },
  {
   "cell_type": "code",
   "execution_count": null,
   "metadata": {
    "deletable": false,
    "editable": false
   },
   "outputs": [],
   "source": [
    "grader.check(\"q6e\")"
   ]
  },
  {
   "cell_type": "markdown",
   "metadata": {
    "deletable": false,
    "editable": false
   },
   "source": [
    "## Q6(f) - Model Selection and Evaluation: Three-fold Split\n",
    "\n",
    "Split the data into training, validation and test sets with 60, 20, and 20% of the data respectively. Make sure to split the data such that the distribution of class labels is approximately equal across splits - “stratify”.\n",
    "\n",
    "Set the seed for the random generator in `random_state` to ”4821”"
   ]
  },
  {
   "cell_type": "code",
   "execution_count": null,
   "metadata": {
    "tags": []
   },
   "outputs": [],
   "source": [
    "# Split of the test set\n",
    "X_trainval, X_test, y_trainval, y_test = ...\n",
    "\n",
    "# Split trainval into train + val \n",
    "X_train, X_val, y_train, y_val = ...\n"
   ]
  },
  {
   "cell_type": "code",
   "execution_count": null,
   "metadata": {
    "deletable": false,
    "editable": false
   },
   "outputs": [],
   "source": [
    "grader.check(\"q6f\")"
   ]
  },
  {
   "cell_type": "markdown",
   "metadata": {
    "deletable": false,
    "editable": false
   },
   "source": [
    "## Q6(g) - Scaling \n",
    "\n",
    "Scale the predictor data with standard scaling (Gaussian normalizaiton). \n",
    "\n",
    "Make sure to use training data set to set scaling parameters and apply those parameters to scaling the training and validation data.\n",
    "\n",
    "Use the train+val to scale the train+val data, and use those parameters to scale the test data to evaluate the best model. \n",
    "\n",
    "Helpful functions: Python - `StandardScaler` from `sklearn.preprocessing`."
   ]
  },
  {
   "cell_type": "code",
   "execution_count": null,
   "metadata": {
    "tags": []
   },
   "outputs": [],
   "source": [
    "scaler = ...\n",
    "X_train_sc = ...\n",
    "X_val_sc = ...\n",
    "\n",
    "scaler_final = ...\n",
    "X_trainval_sc = ...\n",
    "X_test_sc = ...\n"
   ]
  },
  {
   "cell_type": "code",
   "execution_count": null,
   "metadata": {
    "deletable": false,
    "editable": false
   },
   "outputs": [],
   "source": [
    "grader.check(\"q6g\")"
   ]
  },
  {
   "cell_type": "markdown",
   "metadata": {
    "deletable": false,
    "editable": false
   },
   "source": [
    "## Q6(h) -  KNN - K Nearest Neighbors\n",
    "For values of k, [3, 7, 11, 15, 19, 23, 27, 31], find the best k-nearest-neighbor classifier using the three-fold split of data. \n",
    "\n",
    "* fit a k nearest neighbors model to the training data for each value of k\n",
    "* evaluate the classifier on the training and validation set using AUC\n",
    "* select the best value of k\n",
    "* create a model on train+validation with the *best* value of k \n",
    "* evaluate the classifier on the test data. \n",
    "* plot the training and validation performance vs k;  \n",
    "add a line showing the test performance"
   ]
  },
  {
   "cell_type": "code",
   "execution_count": null,
   "metadata": {
    "tags": []
   },
   "outputs": [],
   "source": [
    "\n",
    "kvals = [3, 7, 11, 15, 19, 23, 27, 31]\n",
    "\n",
    "knn_auc_val = np.zeros((1,len(kvals)))\n",
    "knn_auc_tr = np.zeros((1,len(kvals)))\n",
    "\n",
    "\n",
    "# fit a k nearest neighbors model to the training data\n",
    "# evaluate the classifier on the training and validation set using auc\n",
    "\n",
    "\n",
    "# select the best value of k\n",
    "knn_bestk = ...\n",
    "\n",
    "# create a best model on train+validation\n",
    "\n",
    "# evaluate the classifier on the test data.\n",
    "knn_auc_test = ...\n",
    "\n",
    "# plot the training and validationing performance vs k.\n",
    "#   add a line for test performance \n",
    "\n",
    "\n",
    "\n",
    "\n",
    "print('Best k:  %d' % (knn_bestk))\n",
    "print('Test Perf:  %.6f' % (knn_auc_test))"
   ]
  },
  {
   "cell_type": "code",
   "execution_count": null,
   "metadata": {
    "deletable": false,
    "editable": false
   },
   "outputs": [],
   "source": [
    "grader.check(\"q6h\")"
   ]
  },
  {
   "cell_type": "markdown",
   "metadata": {
    "deletable": false,
    "editable": false
   },
   "source": [
    "## Q6(i) - Decision Trees\n",
    "\n",
    "For values of max_leaf_nodes nodes [5, 10, 25, 50, 75, 100], fit the Decision Trees classifier to the training data. \n",
    "\n",
    "- fit a decision tree model to the training data (use `random_state=4821`) for each of the max_leaf_nodes values\n",
    "- evaluate the classifier on the training and validation set using AUC\n",
    "- select the best max_leaf_nodes\n",
    "- retrain the a model on train+validation with the *best* value of max_leaf_nodes \n",
    "- report the auc on the testing data.\n",
    "- plot the train and validation AUC vs max_leaf_nodes;  \n",
    "add a line for the test AUC performance \n",
    "- print out the best tree."
   ]
  },
  {
   "cell_type": "code",
   "execution_count": null,
   "metadata": {
    "tags": []
   },
   "outputs": [],
   "source": [
    "\n",
    "nodes = [5, 10, 25, 50, 75, 100, 150]\n",
    "\n",
    "dt_auc_val = np.zeros((1,len(nodes)))\n",
    "dt_auc_tr = np.zeros((1,len(nodes)))\n",
    "\n",
    "# fit a decision tree model to the training data (use random_state=4821)\n",
    "# evaluate the classifier on the training and validation set using auc\n",
    "\n",
    "\n",
    "# select the best max_leaf_nodes\n",
    "dt_bestn = ...\n",
    "\n",
    "# retrain the best model on train+validation\n",
    "# report the auc on the testing data.\n",
    "dt_auc_test = ...\n",
    "\n",
    "# plot the train and validation auc vs max_leaf_nodes.\n",
    "#   add a line for test performance \n",
    "\n",
    "\n",
    "print('Best max_leaf_nodes:  %d' % (dt_bestn))\n",
    "print('Test Perf:  %.6f' % (dt_auc_test))"
   ]
  },
  {
   "cell_type": "code",
   "execution_count": null,
   "metadata": {
    "tags": []
   },
   "outputs": [],
   "source": [
    "\n",
    "# print out the tree\n",
    "\n"
   ]
  },
  {
   "cell_type": "code",
   "execution_count": null,
   "metadata": {
    "deletable": false,
    "editable": false
   },
   "outputs": [],
   "source": [
    "grader.check(\"q6i\")"
   ]
  },
  {
   "cell_type": "markdown",
   "metadata": {
    "deletable": false,
    "editable": false
   },
   "source": [
    "## Q6(j) -  Naive Bayes \n",
    "\n",
    "Train a Gaussian Naive Bayes model on training + validation data and report the training+val and testing data performance (auc). \n"
   ]
  },
  {
   "cell_type": "code",
   "execution_count": null,
   "metadata": {
    "tags": []
   },
   "outputs": [],
   "source": [
    "# q6j\n",
    "\n",
    "nb_auc_trainval = ...\n",
    "nb_auc_test = ...\n"
   ]
  },
  {
   "cell_type": "code",
   "execution_count": null,
   "metadata": {
    "deletable": false,
    "editable": false
   },
   "outputs": [],
   "source": [
    "grader.check(\"q6j\")"
   ]
  },
  {
   "cell_type": "markdown",
   "metadata": {
    "deletable": false,
    "editable": false
   },
   "source": [
    "## Submission\n",
    "\n",
    "Make sure you have run all cells in your notebook in order before running the cell below, so that all images/graphs appear in the output. The cell below will generate a zip file for you to submit. **Please save before exporting!**\n",
    "\n",
    "**NOTE** the submission must be run on the campus linux machines.  See the instruction in the Canvas assignment."
   ]
  },
  {
   "cell_type": "code",
   "execution_count": null,
   "metadata": {
    "deletable": false,
    "editable": false
   },
   "outputs": [],
   "source": [
    "# Save your notebook first, then run this cell to export your submission.\n",
    "grader.export(pdf=False, run_tests=True)"
   ]
  },
  {
   "cell_type": "markdown",
   "metadata": {},
   "source": [
    " "
   ]
  }
 ],
 "metadata": {
  "kernelspec": {
   "display_name": "Python [conda env:.conda-cs5831] *",
   "language": "python",
   "name": "conda-env-.conda-cs5831-py"
  },
  "language_info": {
   "codemirror_mode": {
    "name": "ipython",
    "version": 3
   },
   "file_extension": ".py",
   "mimetype": "text/x-python",
   "name": "python",
   "nbconvert_exporter": "python",
   "pygments_lexer": "ipython3",
   "version": "3.10.16"
  },
  "otter": {
   "OK_FORMAT": true,
   "assignment_name": "a2-5831",
   "tests": {
    "q1b": {
     "name": "q1b",
     "points": 3,
     "suites": [
      {
       "cases": [
        {
         "code": ">>> (q1movies.shape[0] == 646) & (q1movies.shape[1] == 32)\nTrue",
         "hidden": false,
         "locked": false,
         "points": 1
        },
        {
         "code": ">>> all(q1movies.columns == ['title', 'title_type', 'genre', 'runtime', 'mpaa_rating', 'studio', 'thtr_rel_year', 'thtr_rel_month', 'thtr_rel_day', 'dvd_rel_year', 'dvd_rel_month', 'dvd_rel_day', 'imdb_rating', 'imdb_num_votes', 'critics_rating', 'critics_score', 'audience_rating', 'audience_score', 'best_pic_nom', 'best_pic_win', 'best_actor_win', 'best_actress_win', 'best_dir_win', 'top200_box', 'director', 'actor1', 'actor2', 'actor3', 'actor4', 'actor5', 'imdb_url', 'rt_url'])\nTrue",
         "hidden": false,
         "locked": false,
         "points": 1
        },
        {
         "code": ">>> all(q1movies.iloc[1:5, 6] == [2001, 1996, 1993, 2004])\nTrue",
         "hidden": false,
         "locked": false,
         "points": 1
        }
       ],
       "scored": true,
       "setup": "",
       "teardown": "",
       "type": "doctest"
      }
     ]
    },
    "q1c": {
     "name": "q1c",
     "points": [
      2
     ],
     "suites": [
      {
       "cases": [
        {
         "code": ">>> all(miss_data[miss_data > 0].index == ['runtime', 'studio', 'dvd_rel_year', 'dvd_rel_month', 'dvd_rel_day', 'director', 'actor1', 'actor2', 'actor3', 'actor4', 'actor5'])\nTrue",
         "hidden": false,
         "locked": false
        }
       ],
       "scored": true,
       "setup": "",
       "teardown": "",
       "type": "doctest"
      }
     ]
    },
    "q1d": {
     "name": "q1d",
     "points": 3,
     "suites": [
      {
       "cases": [
        {
         "code": ">>> movies.shape[0] == 645\nTrue",
         "hidden": false,
         "locked": false,
         "points": 1
        },
        {
         "code": ">>> movies.shape[1] == 32\nTrue",
         "hidden": false,
         "locked": false,
         "points": 1
        },
        {
         "code": ">>> all(movies.iloc[100:110, 3] == [102, 101, 84, 102, 90, 122, 107, 97, 165, 109])\nTrue",
         "hidden": false,
         "locked": false,
         "points": 1
        }
       ],
       "scored": true,
       "setup": "",
       "teardown": "",
       "type": "doctest"
      }
     ]
    },
    "q1e": {
     "name": "q1e",
     "points": [
      0.2,
      0.2,
      0.2,
      0.2,
      0.2,
      0.2,
      0.2,
      0.1
     ],
     "suites": [
      {
       "cases": [
        {
         "code": ">>> type_genre in [1, 2, 3, 4]\nTrue",
         "hidden": false,
         "locked": false
        },
        {
         "code": ">>> type_runtime in [1, 2, 3, 4]\nTrue",
         "hidden": false,
         "locked": false
        },
        {
         "code": ">>> type_mpaa_rating in [1, 2, 3, 4]\nTrue",
         "hidden": false,
         "locked": false
        },
        {
         "code": ">>> type_studio in [1, 2, 3, 4]\nTrue",
         "hidden": false,
         "locked": false
        },
        {
         "code": ">>> type_thtr_rel_month in [1, 2, 3, 4]\nTrue",
         "hidden": false,
         "locked": false
        },
        {
         "code": ">>> type_imdb_rating in [1, 2, 3, 4]\nTrue",
         "hidden": false,
         "locked": false
        },
        {
         "code": ">>> type_audience_score in [1, 2, 3, 4]\nTrue",
         "hidden": false,
         "locked": false
        },
        {
         "code": ">>> type_best_pic_win in [1, 2, 3, 4]\nTrue",
         "hidden": false,
         "locked": false
        }
       ],
       "scored": true,
       "setup": "",
       "teardown": "",
       "type": "doctest"
      }
     ]
    },
    "q1f": {
     "name": "q1f",
     "points": 5,
     "suites": [
      {
       "cases": [
        {
         "code": ">>> q1f.shape == (5, 2)\nTrue",
         "hidden": false,
         "locked": false,
         "points": 1
        }
       ],
       "scored": true,
       "setup": "",
       "teardown": "",
       "type": "doctest"
      }
     ]
    },
    "q1g": {
     "name": "q1g",
     "points": 3,
     "suites": [
      {
       "cases": [
        {
         "code": ">>> round(q1g_cs_mean, 4) == 57.6341 and round(q1g_r_mean, 4) == 105.8527\nnp.True_",
         "hidden": false,
         "locked": false,
         "points": 1
        },
        {
         "code": ">>> round(q1g_cs_median, 4) == 61.0 and round(q1g_r_median, 4) == 103.0\nnp.True_",
         "hidden": false,
         "locked": false,
         "points": 1
        },
        {
         "code": ">>> round(q1g_cs_mode, 4) == 67 and round(q1g_r_mode, 4) == 100.0\nTrue",
         "hidden": false,
         "locked": false,
         "points": 1
        }
       ],
       "scored": true,
       "setup": "",
       "teardown": "",
       "type": "doctest"
      }
     ]
    },
    "q1h": {
     "name": "q1h",
     "points": 4,
     "suites": [
      {
       "cases": [
        {
         "code": ">>> round(q1h_cs_q1, 4) == 33 and round(q1h_r_q1, 4) == 92.0\nnp.True_",
         "hidden": false,
         "locked": false,
         "points": 1
        },
        {
         "code": ">>> round(q1h_cs_p37, 4) == 47.28 and round(q1h_r_p37, 4) == 97.0\nnp.True_",
         "hidden": false,
         "locked": false,
         "points": 1
        },
        {
         "code": ">>> round(q1h_cs_q3, 4) == 83.0 and round(q1h_r_q3, 4) == 116.0\nnp.True_",
         "hidden": false,
         "locked": false,
         "points": 1
        },
        {
         "code": ">>> round(q1h_cs_p83, 4) == 89.0 and round(q1h_r_p83, 4) == 122.0\nnp.True_",
         "hidden": false,
         "locked": false,
         "points": 1
        }
       ],
       "scored": true,
       "setup": "",
       "teardown": "",
       "type": "doctest"
      }
     ]
    },
    "q2": {
     "name": "q2",
     "points": 30,
     "suites": [
      {
       "cases": [
        {
         "code": ">>> in1 = [0, 1, 2, 5]\n>>> out1 = minmaxNorm(in1, teData=None, minV=0, maxV=1)\n>>> np.isclose(out1[0][0], 0.0) & np.isclose(out1[0][1], 0.2) & np.isclose(out1[0][2], 0.4) & np.isclose(out1[0][3], 1.0) & (out1[1] == None)\nnp.True_",
         "hidden": false,
         "locked": false
        },
        {
         "code": ">>> out2 = minmaxNorm(in1, teData=[2.5, -1, 3], minV=-1, maxV=1)\n>>> np.isclose(out2[0][0], -1.0) & np.isclose(out2[0][1], -0.6) & np.isclose(out2[0][2], -0.2) & np.isclose(out2[0][3], 1.0) & np.isclose(out2[1][0], 0.0) & np.isclose(out2[1][1], -1.4) & np.isclose(out2[1][2], 0.2)\nnp.True_",
         "hidden": false,
         "locked": false
        },
        {
         "code": ">>> out3 = zscoreNorm(in1, teData=None)\n>>> np.isclose(out3[0][0], -1.06904497) & np.isclose(out3[0][1], -0.53452248) & np.isclose(out3[0][2], 0.0) & np.isclose(out3[0][3], 1.60356745) & (out3[1] == None)\nnp.True_",
         "hidden": false,
         "locked": false
        },
        {
         "code": ">>> out4 = zscoreNorm(in1, teData=[2.5, -1, 3], madFlag=1)\n>>> np.isclose(out4[0][0], -1.333333) & np.isclose(out4[0][1], -0.6666666) & np.isclose(out4[0][2], 0.0) & np.isclose(out4[0][3], 2.0) & np.isclose(out4[1][0], 0.33333333) & np.isclose(out4[1][1], -2.0) & np.isclose(out4[1][2], 0.66666666)\nnp.True_",
         "hidden": false,
         "locked": false
        },
        {
         "code": ">>> in2 = np.array([0, 1, 2, 4, 8])\n>>> out5 = minmaxNorm(in2, None)\n>>> np.allclose(out5[0], np.array([0.0, 0.125, 0.25, 0.5, 1.0]))\nTrue",
         "hidden": false,
         "locked": false
        },
        {
         "code": ">>> out6 = zscoreNorm(in2, None)\n>>> np.allclose(out6[0], np.array([-1.06066017, -0.70710678, -0.35355339, 0.35355339, 1.76776695]))\nTrue",
         "hidden": false,
         "locked": false
        },
        {
         "code": ">>> out7 = minmaxNorm(in2, np.array([-1, 3, 5, 9]), -1, 1)\n>>> np.allclose(out7[0], np.array([-1.0, -0.75, -0.5, 0.0, 1.0])) & np.allclose(out7[1], np.array([-1.25, -0.25, 0.25, 1.25]))\nTrue",
         "hidden": false,
         "locked": false
        },
        {
         "code": ">>> out8 = zscoreNorm(in2, np.array([1, 3, 5, 7]))\n>>> np.allclose(out8[0], np.array([-1.06066017, -0.70710678, -0.35355339, 0.35355339, 1.76776695])) & np.allclose(out8[1], np.array([-0.70710678, 0.0, 0.70710678, 1.41421356]))\nTrue",
         "hidden": false,
         "locked": false
        },
        {
         "code": ">>> in3 = np.array([[1, 3, 5, 4], [2, 6, 3, 8], [3, 10, 6, 9]])\n>>> out9 = minmaxNorm(in3, None)\n>>> np.allclose(out9[0], np.array([[0.0, 0.0, 0.66666667, 0.0], [0.5, 0.42857143, 0.0, 0.8], [1.0, 1.0, 1.0, 1.0]]))\nTrue",
         "hidden": false,
         "locked": false
        },
        {
         "code": ">>> in3 = np.array([[1, 3, 5, 4], [2, 6, 3, 8], [3, 10, 6, 9]])\n>>> out12 = zscoreNorm(in3, None)\n>>> np.allclose(out12[0], np.array([[-1.22474487, -1.16247639, 0.26726124, -1.38873015], [0.0, -0.11624764, -1.33630621, 0.46291005], [1.22474487, 1.27872403, 1.06904497, 0.9258201]]))\nTrue",
         "hidden": false,
         "locked": false
        },
        {
         "code": ">>> in3 = np.array([[1, 3, 5, 4], [2, 6, 3, 8], [3, 10, 6, 9]])\n>>> out13 = zscoreNorm(in3, np.array([1, 6, 5, 8]))\n>>> np.allclose(out13[0], np.array([[-1.22474487, -1.16247639, 0.26726124, -1.38873015], [0.0, -0.11624764, -1.33630621, 0.46291005], [1.22474487, 1.27872403, 1.06904497, 0.9258201]])) & np.allclose(out13[1], np.array([-1.22474487, -0.11624764, 0.26726124, 0.46291005]))\nTrue",
         "hidden": false,
         "locked": false
        },
        {
         "code": ">>> in3 = np.array([[1, 3, 5, 4], [2, 6, 3, 8], [3, 10, 6, 9]])\n>>> out14 = zscoreNorm(in3, np.array([[1, 3, 4, 5], [3, 2, 5, 6]]), madFlag=1)\n>>> np.allclose(out14[0], np.array([[-1.5, -1.36363636, 0.3, -1.5], [0.0, -0.13636364, -1.5, 0.5], [1.5, 1.5, 1.2, 1.0]])) & np.allclose(out14[1], np.array([[-1.5, -1.36363636, -0.6, -1.0], [1.5, -1.77272727, 0.3, -0.5]]))\nTrue",
         "hidden": false,
         "locked": false
        },
        {
         "code": ">>> in4 = pd.DataFrame([[1, 3, 4, 5], [2, 6, 5, 8], [3, 4, 6, 9]])\n>>> in5 = pd.DataFrame([[2, 3, 6, 7], [4, 3, 8, 5]])\n>>> out15 = minmaxNorm(in4, None)\n>>> np.allclose(out15[0], np.array([[0.0, 0.0, 0.0, 0.0], [0.5, 1.0, 0.5, 0.75], [1.0, 0.33333333, 1.0, 1.0]])) & (out15[1] == None)\nTrue",
         "hidden": false,
         "locked": false
        },
        {
         "code": ">>> in4 = pd.DataFrame([[1, 3, 4, 5], [2, 6, 5, 8], [3, 4, 6, 9]])\n>>> out17 = zscoreNorm(in4, None)\n>>> np.allclose(out17[0], np.array([[-1.22474487, -1.06904497, -1.22474487, -1.37281295], [0.0, 1.33630621, 0.0, 0.39223227], [1.22474487, -0.26726124, 1.22474487, 0.98058068]])) & (out17[1] == None)\nTrue",
         "hidden": false,
         "locked": false
        }
       ],
       "scored": true,
       "setup": "",
       "teardown": "",
       "type": "doctest"
      }
     ]
    },
    "q3": {
     "name": "q3",
     "points": 10,
     "suites": [
      {
       "cases": [
        {
         "code": ">>> np.allclose(q3outC, np.array([[0.0, 0.0], [0.17, 0.03225806], [0.2, 1.0], [0.4, 0.20967742], [0.65, 0.4516129], [1.0, 0.53225806]]))\nTrue",
         "hidden": false,
         "locked": false
        },
        {
         "code": ">>> np.allclose(q3outDtrain, np.array([[-1.20221086, -1.08103207], [-0.69549389, -0.98702928], [-0.60607324, 1.83305438], [-0.00993563, -0.47001394], [0.7352364, 0.23500697], [1.77847723, 0.47001394]]))\nTrue",
         "hidden": false,
         "locked": false
        }
       ],
       "scored": true,
       "setup": "",
       "teardown": "",
       "type": "doctest"
      }
     ]
    },
    "q4": {
     "name": "q4",
     "points": 16,
     "suites": [
      {
       "cases": [
        {
         "code": ">>> perfDF.shape == (10, 5)\nTrue",
         "hidden": false,
         "locked": false,
         "points": 2
        },
        {
         "code": ">>> all(perfDF.columns == ['Threshold', 'TPR', 'FPR', 'ACC', 'MCC'])\nTrue",
         "hidden": false,
         "locked": false,
         "points": 2
        },
        {
         "code": ">>> all(perfDF['TPR'] == [0.2, 0.4, 0.4, 0.6, 0.8, 0.8, 1.0, 1.0, 1.0, 1.0])\nTrue",
         "hidden": false,
         "locked": false,
         "points": 3
        },
        {
         "code": ">>> all(perfDF['ACC'] == [0.6, 0.7, 0.6, 0.7, 0.8, 0.7, 0.8, 0.7, 0.6, 0.5])\nTrue",
         "hidden": false,
         "locked": false,
         "points": 3
        }
       ],
       "scored": true,
       "setup": "",
       "teardown": "",
       "type": "doctest"
      }
     ]
    },
    "q6a": {
     "name": "q6a",
     "points": 3,
     "suites": [
      {
       "cases": [
        {
         "code": ">>> nba.shape == (2621, 32)\nTrue",
         "hidden": false,
         "locked": false,
         "points": 1
        },
        {
         "code": ">>> all(nba.columns == ['PlayerID', 'Player', 'Pos', 'Age', 'Tm', 'Year', 'G', 'GS', 'MP', 'PTS', 'FG', 'FGA', 'FG%', '3P', '3PA', '3P%', '2P', '2PA', '2P%', 'eFG%', 'FT', 'FTA', 'FT%', 'ORB', 'DRB', 'TRB', 'AST', 'STL', 'BLK', 'TOV', 'PF', 'TARGET'])\nTrue",
         "hidden": false,
         "locked": false,
         "points": 1
        },
        {
         "code": ">>> all(nba['TARGET'].value_counts() == [1315, 1306])\nTrue",
         "hidden": false,
         "locked": false,
         "points": 1
        }
       ],
       "scored": true,
       "setup": "",
       "teardown": "",
       "type": "doctest"
      }
     ]
    },
    "q6b": {
     "name": "q6b",
     "points": 4,
     "suites": [
      {
       "cases": [
        {
         "code": ">>> miss_nba.shape == (32,)\nTrue",
         "hidden": false,
         "locked": false
        },
        {
         "code": ">>> all(miss_nba[miss_nba > 0].index == ['GS', 'FG%', '3P%', '2P%', 'eFG%', 'FT%'])\nTrue",
         "hidden": false,
         "locked": false
        },
        {
         "code": ">>> np.isclose(miss_nba.max(), 23.693246)\nnp.True_",
         "hidden": false,
         "locked": false
        },
        {
         "code": ">>> np.isclose(miss_nba.mean(), 1.1756009)\nnp.True_",
         "hidden": false,
         "locked": false
        }
       ],
       "scored": true,
       "setup": "",
       "teardown": "",
       "type": "doctest"
      }
     ]
    },
    "q6c": {
     "name": "q6c",
     "points": 6,
     "suites": [
      {
       "cases": [
        {
         "code": ">>> nba2.shape == (2487, 32)\nTrue",
         "hidden": false,
         "locked": false
        },
        {
         "code": ">>> nba2.isna().sum().sum() == 0\nnp.True_",
         "hidden": false,
         "locked": false
        },
        {
         "code": ">>> any(nba2['Year'].isin([1980, 1981])) == False\nTrue",
         "hidden": false,
         "locked": false
        }
       ],
       "scored": true,
       "setup": "",
       "teardown": "",
       "type": "doctest"
      }
     ]
    },
    "q6d": {
     "name": "q6d",
     "points": 4,
     "suites": [
      {
       "cases": [
        {
         "code": ">>> np.isclose(q6d_i, 0.5058303176)\nnp.True_",
         "hidden": false,
         "locked": false,
         "points": 1
        }
       ],
       "scored": true,
       "setup": "",
       "teardown": "",
       "type": "doctest"
      }
     ]
    },
    "q6e": {
     "name": "q6e",
     "points": [
      2,
      1,
      1,
      1
     ],
     "suites": [
      {
       "cases": [
        {
         "code": ">>> nbaX.shape == (2487, 19)\nTrue",
         "hidden": false,
         "locked": false
        },
        {
         "code": ">>> nbaY.shape == (2487,)\nTrue",
         "hidden": false,
         "locked": false
        },
        {
         "code": ">>> all(nba.columns == ['PlayerID', 'Player', 'Pos', 'Age', 'Tm', 'Year', 'G', 'GS', 'MP', 'PTS', 'FG', 'FGA', 'FG%', '3P', '3PA', '3P%', '2P', '2PA', '2P%', 'eFG%', 'FT', 'FTA', 'FT%', 'ORB', 'DRB', 'TRB', 'AST', 'STL', 'BLK', 'TOV', 'PF', 'TARGET'])\nTrue",
         "hidden": false,
         "locked": false
        },
        {
         "code": ">>> all(nbaY.value_counts() == [1258, 1229])\nTrue",
         "hidden": false,
         "locked": false
        }
       ],
       "scored": true,
       "setup": "",
       "teardown": "",
       "type": "doctest"
      }
     ]
    },
    "q6f": {
     "name": "q6f",
     "points": 6,
     "suites": [
      {
       "cases": [
        {
         "code": ">>> X_train.shape == (1491, 19) and y_train.shape == (1491,)\nTrue",
         "hidden": false,
         "locked": false
        },
        {
         "code": ">>> X_val.shape == (498, 19) and y_val.shape == (498,)\nTrue",
         "hidden": false,
         "locked": false
        },
        {
         "code": ">>> X_test.shape == (498, 19) and y_test.shape == (498,)\nTrue",
         "hidden": false,
         "locked": false
        }
       ],
       "scored": true,
       "setup": "",
       "teardown": "",
       "type": "doctest"
      }
     ]
    },
    "q6g": {
     "name": "q6g",
     "points": 10,
     "suites": [
      {
       "cases": [
        {
         "code": ">>> np.isclose(X_train_sc[0][0], 0.117347) and np.isclose(X_train_sc[0][1], -0.5709238)\nnp.True_",
         "hidden": false,
         "locked": false
        },
        {
         "code": ">>> np.isclose(X_train_sc[60][10], -0.55316873) and np.isclose(X_train_sc[35][12], 0.537966644)\nnp.True_",
         "hidden": false,
         "locked": false
        },
        {
         "code": ">>> np.isclose(X_val_sc[30][4], -0.780257632) and np.isclose(X_val_sc[23][9], -0.35039117)\nnp.True_",
         "hidden": false,
         "locked": false
        },
        {
         "code": ">>> np.isclose(X_val_sc[24][14], -0.59249814) and np.isclose(X_val_sc[28][3], -0.67867433)\nnp.True_",
         "hidden": false,
         "locked": false
        },
        {
         "code": ">>> np.isclose(X_test_sc[0][0], 1.451343696) and np.isclose(X_test_sc[0][1], 1.545438323)\nnp.True_",
         "hidden": false,
         "locked": false
        },
        {
         "code": ">>> np.isclose(X_test_sc[20][1], -0.57512671) and np.isclose(X_test_sc[24][8], 0.695857162)\nnp.True_",
         "hidden": false,
         "locked": false
        },
        {
         "code": ">>> np.isclose(X_trainval_sc[0][0], 0.226725226) and np.isclose(X_trainval_sc[40][13], 0.0533794211)\nnp.True_",
         "hidden": false,
         "locked": false
        },
        {
         "code": ">>> np.allclose(X_train_sc.mean(axis=0), [0, 0, 0, 0, 0, 0, 0, 0, 0, 0, 0, 0, 0, 0, 0, 0, 0, 0, 0])\nTrue",
         "hidden": false,
         "locked": false,
         "points": 1.5
        },
        {
         "code": ">>> np.allclose(X_trainval_sc.mean(axis=0), [0, 0, 0, 0, 0, 0, 0, 0, 0, 0, 0, 0, 0, 0, 0, 0, 0, 0, 0])\nTrue",
         "hidden": false,
         "locked": false,
         "points": 1.5
        }
       ],
       "scored": true,
       "setup": "",
       "teardown": "",
       "type": "doctest"
      }
     ]
    },
    "q6h": {
     "name": "q6h",
     "points": [
      2,
      1,
      2,
      2
     ],
     "suites": [
      {
       "cases": [
        {
         "code": ">>> np.isclose(knn_auc_tr[0][0], 0.840645458) and np.isclose(knn_auc_tr[0][3], 0.751082422)\nnp.True_",
         "hidden": false,
         "locked": false
        },
        {
         "code": ">>> np.isclose(knn_auc_val[0][6], 0.741482771) and np.isclose(knn_auc_val[0][3], 0.759533488)\nnp.True_",
         "hidden": false,
         "locked": false
        },
        {
         "code": ">>> np.isclose(knn_auc_val[0][0], 0.688830816) and np.isclose(knn_auc_val[0][4], 0.757549361)\nnp.True_",
         "hidden": false,
         "locked": false
        },
        {
         "code": ">>> knn_bestk == 15\nTrue",
         "hidden": false,
         "locked": false
        }
       ],
       "scored": true,
       "setup": "",
       "teardown": "",
       "type": "doctest"
      }
     ]
    },
    "q6i": {
     "name": "q6i",
     "points": [
      1,
      2,
      2
     ],
     "suites": [
      {
       "cases": [
        {
         "code": ">>> np.isclose(dt_auc_tr[0][0], 0.74117146) and np.isclose(dt_auc_tr[0][5], 0.907029537)\nnp.True_",
         "hidden": false,
         "locked": false
        },
        {
         "code": ">>> np.isclose(dt_auc_val[0][1], 0.7454994192) and np.isclose(dt_auc_val[0][4], 0.707365466)\nnp.True_",
         "hidden": false,
         "locked": false
        },
        {
         "code": ">>> np.isclose(dt_auc_val[0][3], 0.727497096) and np.isclose(dt_auc_val[0][5], 0.680942702)\nnp.True_",
         "hidden": false,
         "locked": false
        }
       ],
       "scored": true,
       "setup": "",
       "teardown": "",
       "type": "doctest"
      }
     ]
    },
    "q6j": {
     "name": "q6j",
     "points": 6,
     "suites": [
      {
       "cases": [
        {
         "code": ">>> np.isclose(nb_auc_trainval, 0.718783433)\nnp.True_",
         "hidden": false,
         "locked": false
        },
        {
         "code": ">>> np.isclose(nb_auc_test, 0.7311749903)\nnp.True_",
         "hidden": false,
         "locked": false
        }
       ],
       "scored": true,
       "setup": "",
       "teardown": "",
       "type": "doctest"
      }
     ]
    }
   }
  }
 },
 "nbformat": 4,
 "nbformat_minor": 4
}
